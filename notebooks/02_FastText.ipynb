{
  "nbformat": 4,
  "nbformat_minor": 0,
  "metadata": {
    "colab": {
      "name": "04 FastText.ipynb",
      "version": "0.3.2",
      "provenance": [],
      "collapsed_sections": []
    },
    "kernelspec": {
      "name": "python3",
      "display_name": "Python 3"
    },
    "accelerator": "GPU"
  },
  "cells": [
    {
      "cell_type": "markdown",
      "metadata": {
        "id": "8blzJvSyF5Gf",
        "colab_type": "text"
      },
      "source": [
        "# fastText y clustering espectral\n",
        "\n",
        "fasText es un método, creado por Facebook, para generar representaciones vectoriales de palabras (embeddings). Es similar a Word2Vec pero tiene la característica de modelar no sólo palabras completas sino también subcadenas (subwords). Gracias a esto, y a la noción  de \"composición\", puede construir la representación de una palabra que nunca vio en el entrenamiento, a partir de la combinación de l representaciones de sus partes/subcadenas. \n",
        "\n",
        "En este notebook entrenaremos representaciones fastText a partir de un corpus en español y posteriormente realizaremos agrupamiento usando la técnica de clustering espectral.\n",
        "\n",
        "\n",
        "## 1. Representación vectorial de palabras con fastText\n",
        "\n",
        "Vamos a instalar fastText de manera nativa usando el repositorio de github y la línea de comandos:\n",
        "\n"
      ]
    },
    {
      "cell_type": "code",
      "metadata": {
        "id": "Um289bl9Wsw_",
        "colab_type": "code",
        "outputId": "6988505c-b1ab-4d28-c2b2-3ee78d7972b7",
        "colab": {
          "base_uri": "https://localhost:8080/",
          "height": 1000
        }
      },
      "source": [
        "!wget https://github.com/facebookresearch/fastText/archive/v0.9.1.zip\n",
        "!unzip v0.9.1.zip\n",
        "%cd fastText-0.9.1\n",
        "!make"
      ],
      "execution_count": 0,
      "outputs": [
        {
          "output_type": "stream",
          "text": [
            "--2019-08-19 16:34:13--  https://github.com/facebookresearch/fastText/archive/v0.9.1.zip\n",
            "Resolving github.com (github.com)... 52.74.223.119\n",
            "Connecting to github.com (github.com)|52.74.223.119|:443... connected.\n",
            "HTTP request sent, awaiting response... 302 Found\n",
            "Location: https://codeload.github.com/facebookresearch/fastText/zip/v0.9.1 [following]\n",
            "--2019-08-19 16:34:19--  https://codeload.github.com/facebookresearch/fastText/zip/v0.9.1\n",
            "Resolving codeload.github.com (codeload.github.com)... 13.229.189.0\n",
            "Connecting to codeload.github.com (codeload.github.com)|13.229.189.0|:443... connected.\n",
            "HTTP request sent, awaiting response... 200 OK\n",
            "Length: unspecified [application/zip]\n",
            "Saving to: ‘v0.9.1.zip’\n",
            "\n",
            "v0.9.1.zip              [         <=>        ]   4.13M  2.18MB/s    in 1.9s    \n",
            "\n",
            "2019-08-19 16:34:22 (2.18 MB/s) - ‘v0.9.1.zip’ saved [4327207]\n",
            "\n",
            "Archive:  v0.9.1.zip\n",
            "b5b7d307274ce00ef52198fbc692ed3bd11d9856\n",
            "   creating: fastText-0.9.1/\n",
            "   creating: fastText-0.9.1/.circleci/\n",
            "  inflating: fastText-0.9.1/.circleci/cmake_test.sh  \n",
            "  inflating: fastText-0.9.1/.circleci/config.yml  \n",
            "  inflating: fastText-0.9.1/.circleci/gcc_test.sh  \n",
            "  inflating: fastText-0.9.1/.circleci/pip_test.sh  \n",
            "  inflating: fastText-0.9.1/.circleci/pull_data.sh  \n",
            "  inflating: fastText-0.9.1/.circleci/python_test.sh  \n",
            "  inflating: fastText-0.9.1/.circleci/run_locally.sh  \n",
            "  inflating: fastText-0.9.1/.circleci/setup_circleimg.sh  \n",
            "  inflating: fastText-0.9.1/.circleci/setup_debian.sh  \n",
            "  inflating: fastText-0.9.1/.gitignore  \n",
            "  inflating: fastText-0.9.1/CMakeLists.txt  \n",
            "  inflating: fastText-0.9.1/CODE_OF_CONDUCT.md  \n",
            "  inflating: fastText-0.9.1/CONTRIBUTING.md  \n",
            "  inflating: fastText-0.9.1/LICENSE  \n",
            "  inflating: fastText-0.9.1/MANIFEST.in  \n",
            "  inflating: fastText-0.9.1/Makefile  \n",
            "  inflating: fastText-0.9.1/README.md  \n",
            "   creating: fastText-0.9.1/alignment/\n",
            "  inflating: fastText-0.9.1/alignment/README.md  \n",
            "  inflating: fastText-0.9.1/alignment/align.py  \n",
            "  inflating: fastText-0.9.1/alignment/eval.py  \n",
            "  inflating: fastText-0.9.1/alignment/example.sh  \n",
            "  inflating: fastText-0.9.1/alignment/unsup_align.py  \n",
            "  inflating: fastText-0.9.1/alignment/utils.py  \n",
            "  inflating: fastText-0.9.1/classification-example.sh  \n",
            "  inflating: fastText-0.9.1/classification-results.sh  \n",
            "   creating: fastText-0.9.1/crawl/\n",
            "  inflating: fastText-0.9.1/crawl/README.md  \n",
            "  inflating: fastText-0.9.1/crawl/dedup.cc  \n",
            "  inflating: fastText-0.9.1/crawl/download_crawl.sh  \n",
            "  inflating: fastText-0.9.1/crawl/filter_dedup.sh  \n",
            "  inflating: fastText-0.9.1/crawl/filter_utf8.cc  \n",
            "  inflating: fastText-0.9.1/crawl/process_wet_file.sh  \n",
            "   creating: fastText-0.9.1/docs/\n",
            "  inflating: fastText-0.9.1/docs/aligned-vectors.md  \n",
            "  inflating: fastText-0.9.1/docs/api.md  \n",
            "  inflating: fastText-0.9.1/docs/cheatsheet.md  \n",
            "  inflating: fastText-0.9.1/docs/crawl-vectors.md  \n",
            "  inflating: fastText-0.9.1/docs/dataset.md  \n",
            "  inflating: fastText-0.9.1/docs/english-vectors.md  \n",
            "  inflating: fastText-0.9.1/docs/faqs.md  \n",
            "  inflating: fastText-0.9.1/docs/language-identification.md  \n",
            "  inflating: fastText-0.9.1/docs/options.md  \n",
            "  inflating: fastText-0.9.1/docs/pretrained-vectors.md  \n",
            "  inflating: fastText-0.9.1/docs/python-module.md  \n",
            "  inflating: fastText-0.9.1/docs/references.md  \n",
            "  inflating: fastText-0.9.1/docs/supervised-models.md  \n",
            "  inflating: fastText-0.9.1/docs/supervised-tutorial.md  \n",
            "  inflating: fastText-0.9.1/docs/support.md  \n",
            "  inflating: fastText-0.9.1/docs/unsupervised-tutorials.md  \n",
            "  inflating: fastText-0.9.1/eval.py  \n",
            "  inflating: fastText-0.9.1/get-wikimedia.sh  \n",
            "   creating: fastText-0.9.1/python/\n",
            "  inflating: fastText-0.9.1/python/README.md  \n",
            "  inflating: fastText-0.9.1/python/README.rst  \n",
            "   creating: fastText-0.9.1/python/benchmarks/\n",
            "  inflating: fastText-0.9.1/python/benchmarks/README.rst  \n",
            "  inflating: fastText-0.9.1/python/benchmarks/get_word_vector.py  \n",
            "   creating: fastText-0.9.1/python/doc/\n",
            "   creating: fastText-0.9.1/python/doc/examples/\n",
            "  inflating: fastText-0.9.1/python/doc/examples/FastTextEmbeddingBag.py  \n",
            "  inflating: fastText-0.9.1/python/doc/examples/bin_to_vec.py  \n",
            "  inflating: fastText-0.9.1/python/doc/examples/compute_accuracy.py  \n",
            "  inflating: fastText-0.9.1/python/doc/examples/get_vocab.py  \n",
            "  inflating: fastText-0.9.1/python/doc/examples/train_supervised.py  \n",
            "  inflating: fastText-0.9.1/python/doc/examples/train_unsupervised.py  \n",
            "   creating: fastText-0.9.1/python/fasttext_module/\n",
            "   creating: fastText-0.9.1/python/fasttext_module/fasttext/\n",
            "  inflating: fastText-0.9.1/python/fasttext_module/fasttext/FastText.py  \n",
            "  inflating: fastText-0.9.1/python/fasttext_module/fasttext/__init__.py  \n",
            "   creating: fastText-0.9.1/python/fasttext_module/fasttext/pybind/\n",
            "  inflating: fastText-0.9.1/python/fasttext_module/fasttext/pybind/fasttext_pybind.cc  \n",
            "   creating: fastText-0.9.1/python/fasttext_module/fasttext/tests/\n",
            "  inflating: fastText-0.9.1/python/fasttext_module/fasttext/tests/__init__.py  \n",
            "  inflating: fastText-0.9.1/python/fasttext_module/fasttext/tests/test_configurations.py  \n",
            "  inflating: fastText-0.9.1/python/fasttext_module/fasttext/tests/test_script.py  \n",
            "   creating: fastText-0.9.1/python/fasttext_module/fasttext/util/\n",
            "  inflating: fastText-0.9.1/python/fasttext_module/fasttext/util/__init__.py  \n",
            "  inflating: fastText-0.9.1/python/fasttext_module/fasttext/util/util.py  \n",
            "  inflating: fastText-0.9.1/quantization-example.sh  \n",
            "  inflating: fastText-0.9.1/runtests.py  \n",
            "   creating: fastText-0.9.1/scripts/\n",
            "   creating: fastText-0.9.1/scripts/kbcompletion/\n",
            "  inflating: fastText-0.9.1/scripts/kbcompletion/README.md  \n",
            "  inflating: fastText-0.9.1/scripts/kbcompletion/data.sh  \n",
            "  inflating: fastText-0.9.1/scripts/kbcompletion/eval.cpp  \n",
            "  inflating: fastText-0.9.1/scripts/kbcompletion/fb15k.sh  \n",
            "  inflating: fastText-0.9.1/scripts/kbcompletion/fb15k237.sh  \n",
            "  inflating: fastText-0.9.1/scripts/kbcompletion/svo.sh  \n",
            "  inflating: fastText-0.9.1/scripts/kbcompletion/wn18.sh  \n",
            "   creating: fastText-0.9.1/scripts/quantization/\n",
            "  inflating: fastText-0.9.1/scripts/quantization/quantization-results.sh  \n",
            " extracting: fastText-0.9.1/setup.cfg  \n",
            "  inflating: fastText-0.9.1/setup.py  \n",
            "   creating: fastText-0.9.1/src/\n",
            "  inflating: fastText-0.9.1/src/args.cc  \n",
            "  inflating: fastText-0.9.1/src/args.h  \n",
            "  inflating: fastText-0.9.1/src/densematrix.cc  \n",
            "  inflating: fastText-0.9.1/src/densematrix.h  \n",
            "  inflating: fastText-0.9.1/src/dictionary.cc  \n",
            "  inflating: fastText-0.9.1/src/dictionary.h  \n",
            "  inflating: fastText-0.9.1/src/fasttext.cc  \n",
            "  inflating: fastText-0.9.1/src/fasttext.h  \n",
            "  inflating: fastText-0.9.1/src/loss.cc  \n",
            "  inflating: fastText-0.9.1/src/loss.h  \n",
            "  inflating: fastText-0.9.1/src/main.cc  \n",
            "  inflating: fastText-0.9.1/src/matrix.cc  \n",
            "  inflating: fastText-0.9.1/src/matrix.h  \n",
            "  inflating: fastText-0.9.1/src/meter.cc  \n",
            "  inflating: fastText-0.9.1/src/meter.h  \n",
            "  inflating: fastText-0.9.1/src/model.cc  \n",
            "  inflating: fastText-0.9.1/src/model.h  \n",
            "  inflating: fastText-0.9.1/src/productquantizer.cc  \n",
            "  inflating: fastText-0.9.1/src/productquantizer.h  \n",
            "  inflating: fastText-0.9.1/src/quantmatrix.cc  \n",
            "  inflating: fastText-0.9.1/src/quantmatrix.h  \n",
            "  inflating: fastText-0.9.1/src/real.h  \n",
            "  inflating: fastText-0.9.1/src/utils.cc  \n",
            "  inflating: fastText-0.9.1/src/utils.h  \n",
            "  inflating: fastText-0.9.1/src/vector.cc  \n",
            "  inflating: fastText-0.9.1/src/vector.h  \n",
            "   creating: fastText-0.9.1/tests/\n",
            "  inflating: fastText-0.9.1/tests/fetch_test_data.sh  \n",
            "   creating: fastText-0.9.1/website/\n",
            "  inflating: fastText-0.9.1/website/README.md  \n",
            "   creating: fastText-0.9.1/website/blog/\n",
            "  inflating: fastText-0.9.1/website/blog/2016-08-18-blog-post.md  \n",
            "  inflating: fastText-0.9.1/website/blog/2017-05-02-blog-post.md  \n",
            "  inflating: fastText-0.9.1/website/blog/2017-10-02-blog-post.md  \n",
            "  inflating: fastText-0.9.1/website/blog/2019-06-25-blog-post.md  \n",
            "   creating: fastText-0.9.1/website/core/\n",
            "  inflating: fastText-0.9.1/website/core/Footer.js  \n",
            "  inflating: fastText-0.9.1/website/package.json  \n",
            "   creating: fastText-0.9.1/website/pages/\n",
            "   creating: fastText-0.9.1/website/pages/en/\n",
            "  inflating: fastText-0.9.1/website/pages/en/index.js  \n",
            "  inflating: fastText-0.9.1/website/sidebars.json  \n",
            "  inflating: fastText-0.9.1/website/siteConfig.js  \n",
            "   creating: fastText-0.9.1/website/static/\n",
            "   creating: fastText-0.9.1/website/static/docs/\n",
            "   creating: fastText-0.9.1/website/static/docs/en/\n",
            "   creating: fastText-0.9.1/website/static/docs/en/html/\n",
            " extracting: fastText-0.9.1/website/static/docs/en/html/.classfasttext_1_1QMatrix-members.html.i4eKqy  \n",
            "  inflating: fastText-0.9.1/website/static/docs/en/html/annotated.html  \n",
            "  inflating: fastText-0.9.1/website/static/docs/en/html/annotated_dup.js  \n",
            "  inflating: fastText-0.9.1/website/static/docs/en/html/args_8cc.html  \n",
            "  inflating: fastText-0.9.1/website/static/docs/en/html/args_8h.html  \n",
            "  inflating: fastText-0.9.1/website/static/docs/en/html/args_8h.js  \n",
            "  inflating: fastText-0.9.1/website/static/docs/en/html/args_8h_source.html  \n",
            " extracting: fastText-0.9.1/website/static/docs/en/html/bc_s.png  \n",
            "  inflating: fastText-0.9.1/website/static/docs/en/html/bdwn.png  \n",
            "  inflating: fastText-0.9.1/website/static/docs/en/html/classes.html  \n",
            "  inflating: fastText-0.9.1/website/static/docs/en/html/classfasttext_1_1Args-members.html  \n",
            "  inflating: fastText-0.9.1/website/static/docs/en/html/classfasttext_1_1Args.html  \n",
            "  inflating: fastText-0.9.1/website/static/docs/en/html/classfasttext_1_1Args.js  \n",
            "  inflating: fastText-0.9.1/website/static/docs/en/html/classfasttext_1_1Dictionary-members.html  \n",
            "  inflating: fastText-0.9.1/website/static/docs/en/html/classfasttext_1_1Dictionary.html  \n",
            "  inflating: fastText-0.9.1/website/static/docs/en/html/classfasttext_1_1Dictionary.js  \n",
            "  inflating: fastText-0.9.1/website/static/docs/en/html/classfasttext_1_1FastText-members.html  \n",
            "  inflating: fastText-0.9.1/website/static/docs/en/html/classfasttext_1_1FastText.html  \n",
            "  inflating: fastText-0.9.1/website/static/docs/en/html/classfasttext_1_1FastText.js  \n",
            "  inflating: fastText-0.9.1/website/static/docs/en/html/classfasttext_1_1Matrix-members.html  \n",
            "  inflating: fastText-0.9.1/website/static/docs/en/html/classfasttext_1_1Matrix.html  \n",
            "  inflating: fastText-0.9.1/website/static/docs/en/html/classfasttext_1_1Matrix.js  \n",
            "  inflating: fastText-0.9.1/website/static/docs/en/html/classfasttext_1_1Model-members.html  \n",
            "  inflating: fastText-0.9.1/website/static/docs/en/html/classfasttext_1_1Model.html  \n",
            "  inflating: fastText-0.9.1/website/static/docs/en/html/classfasttext_1_1Model.js  \n",
            "  inflating: fastText-0.9.1/website/static/docs/en/html/classfasttext_1_1ProductQuantizer-members.html  \n",
            "  inflating: fastText-0.9.1/website/static/docs/en/html/classfasttext_1_1ProductQuantizer.html  \n",
            "  inflating: fastText-0.9.1/website/static/docs/en/html/classfasttext_1_1ProductQuantizer.js  \n",
            "  inflating: fastText-0.9.1/website/static/docs/en/html/classfasttext_1_1QMatrix-members.html  \n",
            "  inflating: fastText-0.9.1/website/static/docs/en/html/classfasttext_1_1QMatrix.html  \n",
            "  inflating: fastText-0.9.1/website/static/docs/en/html/classfasttext_1_1QMatrix.js  \n",
            "  inflating: fastText-0.9.1/website/static/docs/en/html/classfasttext_1_1Vector-members.html  \n",
            "  inflating: fastText-0.9.1/website/static/docs/en/html/classfasttext_1_1Vector.html  \n",
            "  inflating: fastText-0.9.1/website/static/docs/en/html/classfasttext_1_1Vector.js  \n",
            "  inflating: fastText-0.9.1/website/static/docs/en/html/closed.png  \n",
            "  inflating: fastText-0.9.1/website/static/docs/en/html/dictionary_8cc.html  \n",
            "  inflating: fastText-0.9.1/website/static/docs/en/html/dictionary_8h.html  \n",
            "  inflating: fastText-0.9.1/website/static/docs/en/html/dictionary_8h.js  \n",
            "  inflating: fastText-0.9.1/website/static/docs/en/html/dictionary_8h_source.html  \n",
            "  inflating: fastText-0.9.1/website/static/docs/en/html/dir_68267d1309a1af8e8297ef4c3efbcdba.html  \n",
            "  inflating: fastText-0.9.1/website/static/docs/en/html/dir_68267d1309a1af8e8297ef4c3efbcdba.js  \n",
            " extracting: fastText-0.9.1/website/static/docs/en/html/doc.png  \n",
            "  inflating: fastText-0.9.1/website/static/docs/en/html/doxygen.css  \n",
            " extracting: fastText-0.9.1/website/static/docs/en/html/doxygen.png  \n",
            "  inflating: fastText-0.9.1/website/static/docs/en/html/dynsections.js  \n",
            "  inflating: fastText-0.9.1/website/static/docs/en/html/fasttext_8cc.html  \n",
            "  inflating: fastText-0.9.1/website/static/docs/en/html/fasttext_8h.html  \n",
            "  inflating: fastText-0.9.1/website/static/docs/en/html/fasttext_8h.js  \n",
            "  inflating: fastText-0.9.1/website/static/docs/en/html/fasttext_8h_source.html  \n",
            "  inflating: fastText-0.9.1/website/static/docs/en/html/favicon.png  \n",
            "  inflating: fastText-0.9.1/website/static/docs/en/html/files.html  \n",
            "  inflating: fastText-0.9.1/website/static/docs/en/html/files.js  \n",
            " extracting: fastText-0.9.1/website/static/docs/en/html/folderclosed.png  \n",
            " extracting: fastText-0.9.1/website/static/docs/en/html/folderopen.png  \n",
            "  inflating: fastText-0.9.1/website/static/docs/en/html/functions.html  \n",
            "  inflating: fastText-0.9.1/website/static/docs/en/html/functions_0x7e.html  \n",
            "  inflating: fastText-0.9.1/website/static/docs/en/html/functions_b.html  \n",
            "  inflating: fastText-0.9.1/website/static/docs/en/html/functions_c.html  \n",
            "  inflating: fastText-0.9.1/website/static/docs/en/html/functions_d.html  \n",
            "  inflating: fastText-0.9.1/website/static/docs/en/html/functions_dup.js  \n",
            "  inflating: fastText-0.9.1/website/static/docs/en/html/functions_e.html  \n",
            "  inflating: fastText-0.9.1/website/static/docs/en/html/functions_f.html  \n",
            "  inflating: fastText-0.9.1/website/static/docs/en/html/functions_func.html  \n",
            "  inflating: fastText-0.9.1/website/static/docs/en/html/functions_g.html  \n",
            "  inflating: fastText-0.9.1/website/static/docs/en/html/functions_h.html  \n",
            "  inflating: fastText-0.9.1/website/static/docs/en/html/functions_i.html  \n",
            "  inflating: fastText-0.9.1/website/static/docs/en/html/functions_k.html  \n",
            "  inflating: fastText-0.9.1/website/static/docs/en/html/functions_l.html  \n",
            "  inflating: fastText-0.9.1/website/static/docs/en/html/functions_m.html  \n",
            "  inflating: fastText-0.9.1/website/static/docs/en/html/functions_n.html  \n",
            "  inflating: fastText-0.9.1/website/static/docs/en/html/functions_o.html  \n",
            "  inflating: fastText-0.9.1/website/static/docs/en/html/functions_p.html  \n",
            "  inflating: fastText-0.9.1/website/static/docs/en/html/functions_q.html  \n",
            "  inflating: fastText-0.9.1/website/static/docs/en/html/functions_r.html  \n",
            "  inflating: fastText-0.9.1/website/static/docs/en/html/functions_s.html  \n",
            "  inflating: fastText-0.9.1/website/static/docs/en/html/functions_t.html  \n",
            "  inflating: fastText-0.9.1/website/static/docs/en/html/functions_u.html  \n",
            "  inflating: fastText-0.9.1/website/static/docs/en/html/functions_v.html  \n",
            "  inflating: fastText-0.9.1/website/static/docs/en/html/functions_vars.html  \n",
            "  inflating: fastText-0.9.1/website/static/docs/en/html/functions_w.html  \n",
            "  inflating: fastText-0.9.1/website/static/docs/en/html/functions_z.html  \n",
            "  inflating: fastText-0.9.1/website/static/docs/en/html/globals.html  \n",
            "  inflating: fastText-0.9.1/website/static/docs/en/html/globals_defs.html  \n",
            "  inflating: fastText-0.9.1/website/static/docs/en/html/globals_func.html  \n",
            "  inflating: fastText-0.9.1/website/static/docs/en/html/index.html  \n",
            "  inflating: fastText-0.9.1/website/static/docs/en/html/jquery.js  \n",
            "  inflating: fastText-0.9.1/website/static/docs/en/html/main_8cc.html  \n",
            "  inflating: fastText-0.9.1/website/static/docs/en/html/main_8cc.js  \n",
            "  inflating: fastText-0.9.1/website/static/docs/en/html/matrix_8cc.html  \n",
            "  inflating: fastText-0.9.1/website/static/docs/en/html/matrix_8h.html  \n",
            "  inflating: fastText-0.9.1/website/static/docs/en/html/matrix_8h_source.html  \n",
            "  inflating: fastText-0.9.1/website/static/docs/en/html/menu.js  \n",
            "  inflating: fastText-0.9.1/website/static/docs/en/html/menudata.js  \n",
            "  inflating: fastText-0.9.1/website/static/docs/en/html/model_8cc.html  \n",
            "  inflating: fastText-0.9.1/website/static/docs/en/html/model_8h.html  \n",
            "  inflating: fastText-0.9.1/website/static/docs/en/html/model_8h.js  \n",
            "  inflating: fastText-0.9.1/website/static/docs/en/html/model_8h_source.html  \n",
            "  inflating: fastText-0.9.1/website/static/docs/en/html/namespacefasttext.html  \n",
            "  inflating: fastText-0.9.1/website/static/docs/en/html/namespacefasttext.js  \n",
            "  inflating: fastText-0.9.1/website/static/docs/en/html/namespacefasttext_1_1utils.html  \n",
            "  inflating: fastText-0.9.1/website/static/docs/en/html/namespacemembers.html  \n",
            "  inflating: fastText-0.9.1/website/static/docs/en/html/namespacemembers_enum.html  \n",
            "  inflating: fastText-0.9.1/website/static/docs/en/html/namespacemembers_func.html  \n",
            "  inflating: fastText-0.9.1/website/static/docs/en/html/namespacemembers_type.html  \n",
            "  inflating: fastText-0.9.1/website/static/docs/en/html/namespaces.html  \n",
            "  inflating: fastText-0.9.1/website/static/docs/en/html/namespaces.js  \n",
            " extracting: fastText-0.9.1/website/static/docs/en/html/nav_f.png  \n",
            "  inflating: fastText-0.9.1/website/static/docs/en/html/nav_g.png  \n",
            "  inflating: fastText-0.9.1/website/static/docs/en/html/nav_h.png  \n",
            "  inflating: fastText-0.9.1/website/static/docs/en/html/navtree.css  \n",
            "  inflating: fastText-0.9.1/website/static/docs/en/html/navtree.js  \n",
            "  inflating: fastText-0.9.1/website/static/docs/en/html/navtreedata.js  \n",
            "  inflating: fastText-0.9.1/website/static/docs/en/html/navtreeindex0.js  \n",
            "  inflating: fastText-0.9.1/website/static/docs/en/html/navtreeindex1.js  \n",
            "  inflating: fastText-0.9.1/website/static/docs/en/html/open.png  \n",
            "  inflating: fastText-0.9.1/website/static/docs/en/html/productquantizer_8cc.html  \n",
            "  inflating: fastText-0.9.1/website/static/docs/en/html/productquantizer_8cc.js  \n",
            "  inflating: fastText-0.9.1/website/static/docs/en/html/productquantizer_8h.html  \n",
            "  inflating: fastText-0.9.1/website/static/docs/en/html/productquantizer_8h_source.html  \n",
            "  inflating: fastText-0.9.1/website/static/docs/en/html/qmatrix_8cc.html  \n",
            "  inflating: fastText-0.9.1/website/static/docs/en/html/qmatrix_8h.html  \n",
            "  inflating: fastText-0.9.1/website/static/docs/en/html/qmatrix_8h_source.html  \n",
            "  inflating: fastText-0.9.1/website/static/docs/en/html/real_8h.html  \n",
            "  inflating: fastText-0.9.1/website/static/docs/en/html/real_8h.js  \n",
            "  inflating: fastText-0.9.1/website/static/docs/en/html/real_8h_source.html  \n",
            "  inflating: fastText-0.9.1/website/static/docs/en/html/resize.js  \n",
            "   creating: fastText-0.9.1/website/static/docs/en/html/search/\n",
            " extracting: fastText-0.9.1/website/static/docs/en/html/search/.files_7.html.StRRNc  \n",
            " extracting: fastText-0.9.1/website/static/docs/en/html/search/.variables_a.html.1MGQ27  \n",
            "  inflating: fastText-0.9.1/website/static/docs/en/html/search/all_0.html  \n",
            "  inflating: fastText-0.9.1/website/static/docs/en/html/search/all_0.js  \n",
            "  inflating: fastText-0.9.1/website/static/docs/en/html/search/all_1.html  \n",
            "  inflating: fastText-0.9.1/website/static/docs/en/html/search/all_1.js  \n",
            "  inflating: fastText-0.9.1/website/static/docs/en/html/search/all_10.html  \n",
            "  inflating: fastText-0.9.1/website/static/docs/en/html/search/all_10.js  \n",
            "  inflating: fastText-0.9.1/website/static/docs/en/html/search/all_11.html  \n",
            "  inflating: fastText-0.9.1/website/static/docs/en/html/search/all_11.js  \n",
            "  inflating: fastText-0.9.1/website/static/docs/en/html/search/all_12.html  \n",
            "  inflating: fastText-0.9.1/website/static/docs/en/html/search/all_12.js  \n",
            "  inflating: fastText-0.9.1/website/static/docs/en/html/search/all_13.html  \n",
            "  inflating: fastText-0.9.1/website/static/docs/en/html/search/all_13.js  \n",
            "  inflating: fastText-0.9.1/website/static/docs/en/html/search/all_14.html  \n",
            "  inflating: fastText-0.9.1/website/static/docs/en/html/search/all_14.js  \n",
            "  inflating: fastText-0.9.1/website/static/docs/en/html/search/all_15.html  \n",
            "  inflating: fastText-0.9.1/website/static/docs/en/html/search/all_15.js  \n",
            "  inflating: fastText-0.9.1/website/static/docs/en/html/search/all_16.html  \n",
            "  inflating: fastText-0.9.1/website/static/docs/en/html/search/all_16.js  \n",
            "  inflating: fastText-0.9.1/website/static/docs/en/html/search/all_17.html  \n",
            "  inflating: fastText-0.9.1/website/static/docs/en/html/search/all_17.js  \n",
            "  inflating: fastText-0.9.1/website/static/docs/en/html/search/all_2.html  \n",
            "  inflating: fastText-0.9.1/website/static/docs/en/html/search/all_2.js  \n",
            "  inflating: fastText-0.9.1/website/static/docs/en/html/search/all_3.html  \n",
            "  inflating: fastText-0.9.1/website/static/docs/en/html/search/all_3.js  \n",
            "  inflating: fastText-0.9.1/website/static/docs/en/html/search/all_4.html  \n",
            "  inflating: fastText-0.9.1/website/static/docs/en/html/search/all_4.js  \n",
            "  inflating: fastText-0.9.1/website/static/docs/en/html/search/all_5.html  \n",
            "  inflating: fastText-0.9.1/website/static/docs/en/html/search/all_5.js  \n",
            "  inflating: fastText-0.9.1/website/static/docs/en/html/search/all_6.html  \n",
            "  inflating: fastText-0.9.1/website/static/docs/en/html/search/all_6.js  \n",
            "  inflating: fastText-0.9.1/website/static/docs/en/html/search/all_7.html  \n",
            "  inflating: fastText-0.9.1/website/static/docs/en/html/search/all_7.js  \n",
            "  inflating: fastText-0.9.1/website/static/docs/en/html/search/all_8.html  \n",
            "  inflating: fastText-0.9.1/website/static/docs/en/html/search/all_8.js  \n",
            "  inflating: fastText-0.9.1/website/static/docs/en/html/search/all_9.html  \n",
            "  inflating: fastText-0.9.1/website/static/docs/en/html/search/all_9.js  \n",
            "  inflating: fastText-0.9.1/website/static/docs/en/html/search/all_a.html  \n",
            "  inflating: fastText-0.9.1/website/static/docs/en/html/search/all_a.js  \n",
            "  inflating: fastText-0.9.1/website/static/docs/en/html/search/all_b.html  \n",
            "  inflating: fastText-0.9.1/website/static/docs/en/html/search/all_b.js  \n",
            "  inflating: fastText-0.9.1/website/static/docs/en/html/search/all_c.html  \n",
            "  inflating: fastText-0.9.1/website/static/docs/en/html/search/all_c.js  \n",
            "  inflating: fastText-0.9.1/website/static/docs/en/html/search/all_d.html  \n",
            "  inflating: fastText-0.9.1/website/static/docs/en/html/search/all_d.js  \n",
            "  inflating: fastText-0.9.1/website/static/docs/en/html/search/all_e.html  \n",
            "  inflating: fastText-0.9.1/website/static/docs/en/html/search/all_e.js  \n",
            "  inflating: fastText-0.9.1/website/static/docs/en/html/search/all_f.html  \n",
            "  inflating: fastText-0.9.1/website/static/docs/en/html/search/all_f.js  \n",
            "  inflating: fastText-0.9.1/website/static/docs/en/html/search/classes_0.html  \n",
            "  inflating: fastText-0.9.1/website/static/docs/en/html/search/classes_0.js  \n",
            "  inflating: fastText-0.9.1/website/static/docs/en/html/search/classes_1.html  \n",
            "  inflating: fastText-0.9.1/website/static/docs/en/html/search/classes_1.js  \n",
            "  inflating: fastText-0.9.1/website/static/docs/en/html/search/classes_2.html  \n",
            "  inflating: fastText-0.9.1/website/static/docs/en/html/search/classes_2.js  \n",
            "  inflating: fastText-0.9.1/website/static/docs/en/html/search/classes_3.html  \n",
            "  inflating: fastText-0.9.1/website/static/docs/en/html/search/classes_3.js  \n",
            "  inflating: fastText-0.9.1/website/static/docs/en/html/search/classes_4.html  \n",
            "  inflating: fastText-0.9.1/website/static/docs/en/html/search/classes_4.js  \n",
            "  inflating: fastText-0.9.1/website/static/docs/en/html/search/classes_5.html  \n",
            "  inflating: fastText-0.9.1/website/static/docs/en/html/search/classes_5.js  \n",
            "  inflating: fastText-0.9.1/website/static/docs/en/html/search/classes_6.html  \n",
            "  inflating: fastText-0.9.1/website/static/docs/en/html/search/classes_6.js  \n",
            "  inflating: fastText-0.9.1/website/static/docs/en/html/search/classes_7.html  \n",
            "  inflating: fastText-0.9.1/website/static/docs/en/html/search/classes_7.js  \n",
            "  inflating: fastText-0.9.1/website/static/docs/en/html/search/classes_8.html  \n",
            "  inflating: fastText-0.9.1/website/static/docs/en/html/search/classes_8.js  \n",
            " extracting: fastText-0.9.1/website/static/docs/en/html/search/close.png  \n",
            "  inflating: fastText-0.9.1/website/static/docs/en/html/search/defines_0.html  \n",
            "  inflating: fastText-0.9.1/website/static/docs/en/html/search/defines_0.js  \n",
            "  inflating: fastText-0.9.1/website/static/docs/en/html/search/defines_1.html  \n",
            "  inflating: fastText-0.9.1/website/static/docs/en/html/search/defines_1.js  \n",
            "  inflating: fastText-0.9.1/website/static/docs/en/html/search/defines_2.html  \n",
            "  inflating: fastText-0.9.1/website/static/docs/en/html/search/defines_2.js  \n",
            "  inflating: fastText-0.9.1/website/static/docs/en/html/search/defines_3.html  \n",
            "  inflating: fastText-0.9.1/website/static/docs/en/html/search/defines_3.js  \n",
            "  inflating: fastText-0.9.1/website/static/docs/en/html/search/enums_0.html  \n",
            "  inflating: fastText-0.9.1/website/static/docs/en/html/search/enums_0.js  \n",
            "  inflating: fastText-0.9.1/website/static/docs/en/html/search/enums_1.html  \n",
            "  inflating: fastText-0.9.1/website/static/docs/en/html/search/enums_1.js  \n",
            "  inflating: fastText-0.9.1/website/static/docs/en/html/search/enums_2.html  \n",
            "  inflating: fastText-0.9.1/website/static/docs/en/html/search/enums_2.js  \n",
            "  inflating: fastText-0.9.1/website/static/docs/en/html/search/enumvalues_0.html  \n",
            "  inflating: fastText-0.9.1/website/static/docs/en/html/search/enumvalues_0.js  \n",
            "  inflating: fastText-0.9.1/website/static/docs/en/html/search/enumvalues_1.html  \n",
            "  inflating: fastText-0.9.1/website/static/docs/en/html/search/enumvalues_1.js  \n",
            "  inflating: fastText-0.9.1/website/static/docs/en/html/search/enumvalues_2.html  \n",
            "  inflating: fastText-0.9.1/website/static/docs/en/html/search/enumvalues_2.js  \n",
            "  inflating: fastText-0.9.1/website/static/docs/en/html/search/enumvalues_3.html  \n",
            "  inflating: fastText-0.9.1/website/static/docs/en/html/search/enumvalues_3.js  \n",
            "  inflating: fastText-0.9.1/website/static/docs/en/html/search/enumvalues_4.html  \n",
            "  inflating: fastText-0.9.1/website/static/docs/en/html/search/enumvalues_4.js  \n",
            "  inflating: fastText-0.9.1/website/static/docs/en/html/search/enumvalues_5.html  \n",
            "  inflating: fastText-0.9.1/website/static/docs/en/html/search/enumvalues_5.js  \n",
            "  inflating: fastText-0.9.1/website/static/docs/en/html/search/files_0.html  \n",
            "  inflating: fastText-0.9.1/website/static/docs/en/html/search/files_0.js  \n",
            "  inflating: fastText-0.9.1/website/static/docs/en/html/search/files_1.html  \n",
            "  inflating: fastText-0.9.1/website/static/docs/en/html/search/files_1.js  \n",
            "  inflating: fastText-0.9.1/website/static/docs/en/html/search/files_2.html  \n",
            "  inflating: fastText-0.9.1/website/static/docs/en/html/search/files_2.js  \n",
            "  inflating: fastText-0.9.1/website/static/docs/en/html/search/files_3.html  \n",
            "  inflating: fastText-0.9.1/website/static/docs/en/html/search/files_3.js  \n",
            "  inflating: fastText-0.9.1/website/static/docs/en/html/search/files_4.html  \n",
            "  inflating: fastText-0.9.1/website/static/docs/en/html/search/files_4.js  \n",
            "  inflating: fastText-0.9.1/website/static/docs/en/html/search/files_5.html  \n",
            "  inflating: fastText-0.9.1/website/static/docs/en/html/search/files_5.js  \n",
            "  inflating: fastText-0.9.1/website/static/docs/en/html/search/files_6.html  \n",
            "  inflating: fastText-0.9.1/website/static/docs/en/html/search/files_6.js  \n",
            "  inflating: fastText-0.9.1/website/static/docs/en/html/search/files_7.html  \n",
            "  inflating: fastText-0.9.1/website/static/docs/en/html/search/files_7.js  \n",
            "  inflating: fastText-0.9.1/website/static/docs/en/html/search/files_8.html  \n",
            "  inflating: fastText-0.9.1/website/static/docs/en/html/search/files_8.js  \n",
            "  inflating: fastText-0.9.1/website/static/docs/en/html/search/functions_0.html  \n",
            "  inflating: fastText-0.9.1/website/static/docs/en/html/search/functions_0.js  \n",
            "  inflating: fastText-0.9.1/website/static/docs/en/html/search/functions_1.html  \n",
            "  inflating: fastText-0.9.1/website/static/docs/en/html/search/functions_1.js  \n",
            "  inflating: fastText-0.9.1/website/static/docs/en/html/search/functions_10.html  \n",
            "  inflating: fastText-0.9.1/website/static/docs/en/html/search/functions_10.js  \n",
            "  inflating: fastText-0.9.1/website/static/docs/en/html/search/functions_11.html  \n",
            "  inflating: fastText-0.9.1/website/static/docs/en/html/search/functions_11.js  \n",
            "  inflating: fastText-0.9.1/website/static/docs/en/html/search/functions_12.html  \n",
            "  inflating: fastText-0.9.1/website/static/docs/en/html/search/functions_12.js  \n",
            "  inflating: fastText-0.9.1/website/static/docs/en/html/search/functions_13.html  \n",
            "  inflating: fastText-0.9.1/website/static/docs/en/html/search/functions_13.js  \n",
            "  inflating: fastText-0.9.1/website/static/docs/en/html/search/functions_14.html  \n",
            "  inflating: fastText-0.9.1/website/static/docs/en/html/search/functions_14.js  \n",
            "  inflating: fastText-0.9.1/website/static/docs/en/html/search/functions_15.html  \n",
            "  inflating: fastText-0.9.1/website/static/docs/en/html/search/functions_15.js  \n",
            "  inflating: fastText-0.9.1/website/static/docs/en/html/search/functions_16.html  \n",
            "  inflating: fastText-0.9.1/website/static/docs/en/html/search/functions_16.js  \n",
            "  inflating: fastText-0.9.1/website/static/docs/en/html/search/functions_17.html  \n",
            "  inflating: fastText-0.9.1/website/static/docs/en/html/search/functions_17.js  \n",
            "  inflating: fastText-0.9.1/website/static/docs/en/html/search/functions_2.html  \n",
            "  inflating: fastText-0.9.1/website/static/docs/en/html/search/functions_2.js  \n",
            "  inflating: fastText-0.9.1/website/static/docs/en/html/search/functions_3.html  \n",
            "  inflating: fastText-0.9.1/website/static/docs/en/html/search/functions_3.js  \n",
            "  inflating: fastText-0.9.1/website/static/docs/en/html/search/functions_4.html  \n",
            "  inflating: fastText-0.9.1/website/static/docs/en/html/search/functions_4.js  \n",
            "  inflating: fastText-0.9.1/website/static/docs/en/html/search/functions_5.html  \n",
            "  inflating: fastText-0.9.1/website/static/docs/en/html/search/functions_5.js  \n",
            "  inflating: fastText-0.9.1/website/static/docs/en/html/search/functions_6.html  \n",
            "  inflating: fastText-0.9.1/website/static/docs/en/html/search/functions_6.js  \n",
            "  inflating: fastText-0.9.1/website/static/docs/en/html/search/functions_7.html  \n",
            "  inflating: fastText-0.9.1/website/static/docs/en/html/search/functions_7.js  \n",
            "  inflating: fastText-0.9.1/website/static/docs/en/html/search/functions_8.html  \n",
            "  inflating: fastText-0.9.1/website/static/docs/en/html/search/functions_8.js  \n",
            "  inflating: fastText-0.9.1/website/static/docs/en/html/search/functions_9.html  \n",
            "  inflating: fastText-0.9.1/website/static/docs/en/html/search/functions_9.js  \n",
            "  inflating: fastText-0.9.1/website/static/docs/en/html/search/functions_a.html  \n",
            "  inflating: fastText-0.9.1/website/static/docs/en/html/search/functions_a.js  \n",
            "  inflating: fastText-0.9.1/website/static/docs/en/html/search/functions_b.html  \n",
            "  inflating: fastText-0.9.1/website/static/docs/en/html/search/functions_b.js  \n",
            "  inflating: fastText-0.9.1/website/static/docs/en/html/search/functions_c.html  \n",
            "  inflating: fastText-0.9.1/website/static/docs/en/html/search/functions_c.js  \n",
            "  inflating: fastText-0.9.1/website/static/docs/en/html/search/functions_d.html  \n",
            "  inflating: fastText-0.9.1/website/static/docs/en/html/search/functions_d.js  \n",
            "  inflating: fastText-0.9.1/website/static/docs/en/html/search/functions_e.html  \n",
            "  inflating: fastText-0.9.1/website/static/docs/en/html/search/functions_e.js  \n",
            "  inflating: fastText-0.9.1/website/static/docs/en/html/search/functions_f.html  \n",
            "  inflating: fastText-0.9.1/website/static/docs/en/html/search/functions_f.js  \n",
            " extracting: fastText-0.9.1/website/static/docs/en/html/search/mag_sel.png  \n",
            "  inflating: fastText-0.9.1/website/static/docs/en/html/search/namespaces_0.html  \n",
            "  inflating: fastText-0.9.1/website/static/docs/en/html/search/namespaces_0.js  \n",
            "  inflating: fastText-0.9.1/website/static/docs/en/html/search/nomatches.html  \n",
            "  inflating: fastText-0.9.1/website/static/docs/en/html/search/search.css  \n",
            "  inflating: fastText-0.9.1/website/static/docs/en/html/search/search.js  \n",
            " extracting: fastText-0.9.1/website/static/docs/en/html/search/search_l.png  \n",
            "  inflating: fastText-0.9.1/website/static/docs/en/html/search/search_m.png  \n",
            " extracting: fastText-0.9.1/website/static/docs/en/html/search/search_r.png  \n",
            "  inflating: fastText-0.9.1/website/static/docs/en/html/search/searchdata.js  \n",
            "  inflating: fastText-0.9.1/website/static/docs/en/html/search/typedefs_0.html  \n",
            "  inflating: fastText-0.9.1/website/static/docs/en/html/search/typedefs_0.js  \n",
            "  inflating: fastText-0.9.1/website/static/docs/en/html/search/typedefs_1.html  \n",
            "  inflating: fastText-0.9.1/website/static/docs/en/html/search/typedefs_1.js  \n",
            "  inflating: fastText-0.9.1/website/static/docs/en/html/search/variables_0.html  \n",
            "  inflating: fastText-0.9.1/website/static/docs/en/html/search/variables_0.js  \n",
            "  inflating: fastText-0.9.1/website/static/docs/en/html/search/variables_1.html  \n",
            "  inflating: fastText-0.9.1/website/static/docs/en/html/search/variables_1.js  \n",
            "  inflating: fastText-0.9.1/website/static/docs/en/html/search/variables_10.html  \n",
            "  inflating: fastText-0.9.1/website/static/docs/en/html/search/variables_10.js  \n",
            "  inflating: fastText-0.9.1/website/static/docs/en/html/search/variables_11.html  \n",
            "  inflating: fastText-0.9.1/website/static/docs/en/html/search/variables_11.js  \n",
            "  inflating: fastText-0.9.1/website/static/docs/en/html/search/variables_12.html  \n",
            "  inflating: fastText-0.9.1/website/static/docs/en/html/search/variables_12.js  \n",
            "  inflating: fastText-0.9.1/website/static/docs/en/html/search/variables_13.html  \n",
            "  inflating: fastText-0.9.1/website/static/docs/en/html/search/variables_13.js  \n",
            "  inflating: fastText-0.9.1/website/static/docs/en/html/search/variables_2.html  \n",
            "  inflating: fastText-0.9.1/website/static/docs/en/html/search/variables_2.js  \n",
            "  inflating: fastText-0.9.1/website/static/docs/en/html/search/variables_3.html  \n",
            "  inflating: fastText-0.9.1/website/static/docs/en/html/search/variables_3.js  \n",
            "  inflating: fastText-0.9.1/website/static/docs/en/html/search/variables_4.html  \n",
            "  inflating: fastText-0.9.1/website/static/docs/en/html/search/variables_4.js  \n",
            "  inflating: fastText-0.9.1/website/static/docs/en/html/search/variables_5.html  \n",
            "  inflating: fastText-0.9.1/website/static/docs/en/html/search/variables_5.js  \n",
            "  inflating: fastText-0.9.1/website/static/docs/en/html/search/variables_6.html  \n",
            "  inflating: fastText-0.9.1/website/static/docs/en/html/search/variables_6.js  \n",
            "  inflating: fastText-0.9.1/website/static/docs/en/html/search/variables_7.html  \n",
            "  inflating: fastText-0.9.1/website/static/docs/en/html/search/variables_7.js  \n",
            "  inflating: fastText-0.9.1/website/static/docs/en/html/search/variables_8.html  \n",
            "  inflating: fastText-0.9.1/website/static/docs/en/html/search/variables_8.js  \n",
            "  inflating: fastText-0.9.1/website/static/docs/en/html/search/variables_9.html  \n",
            "  inflating: fastText-0.9.1/website/static/docs/en/html/search/variables_9.js  \n",
            "  inflating: fastText-0.9.1/website/static/docs/en/html/search/variables_a.html  \n",
            "  inflating: fastText-0.9.1/website/static/docs/en/html/search/variables_a.js  \n",
            "  inflating: fastText-0.9.1/website/static/docs/en/html/search/variables_b.html  \n",
            "  inflating: fastText-0.9.1/website/static/docs/en/html/search/variables_b.js  \n",
            "  inflating: fastText-0.9.1/website/static/docs/en/html/search/variables_c.html  \n",
            "  inflating: fastText-0.9.1/website/static/docs/en/html/search/variables_c.js  \n",
            "  inflating: fastText-0.9.1/website/static/docs/en/html/search/variables_d.html  \n",
            "  inflating: fastText-0.9.1/website/static/docs/en/html/search/variables_d.js  \n",
            "  inflating: fastText-0.9.1/website/static/docs/en/html/search/variables_e.html  \n",
            "  inflating: fastText-0.9.1/website/static/docs/en/html/search/variables_e.js  \n",
            "  inflating: fastText-0.9.1/website/static/docs/en/html/search/variables_f.html  \n",
            "  inflating: fastText-0.9.1/website/static/docs/en/html/search/variables_f.js  \n",
            "  inflating: fastText-0.9.1/website/static/docs/en/html/splitbar.png  \n",
            "  inflating: fastText-0.9.1/website/static/docs/en/html/structfasttext_1_1Node-members.html  \n",
            "  inflating: fastText-0.9.1/website/static/docs/en/html/structfasttext_1_1Node.html  \n",
            "  inflating: fastText-0.9.1/website/static/docs/en/html/structfasttext_1_1Node.js  \n",
            "  inflating: fastText-0.9.1/website/static/docs/en/html/structfasttext_1_1entry-members.html  \n",
            "  inflating: fastText-0.9.1/website/static/docs/en/html/structfasttext_1_1entry.html  \n",
            "  inflating: fastText-0.9.1/website/static/docs/en/html/structfasttext_1_1entry.js  \n",
            " extracting: fastText-0.9.1/website/static/docs/en/html/sync_off.png  \n",
            " extracting: fastText-0.9.1/website/static/docs/en/html/sync_on.png  \n",
            " extracting: fastText-0.9.1/website/static/docs/en/html/tab_a.png  \n",
            " extracting: fastText-0.9.1/website/static/docs/en/html/tab_b.png  \n",
            " extracting: fastText-0.9.1/website/static/docs/en/html/tab_h.png  \n",
            " extracting: fastText-0.9.1/website/static/docs/en/html/tab_s.png  \n",
            "  inflating: fastText-0.9.1/website/static/docs/en/html/tabs.css  \n",
            "  inflating: fastText-0.9.1/website/static/docs/en/html/utils_8cc.html  \n",
            "  inflating: fastText-0.9.1/website/static/docs/en/html/utils_8cc.js  \n",
            "  inflating: fastText-0.9.1/website/static/docs/en/html/utils_8h.html  \n",
            "  inflating: fastText-0.9.1/website/static/docs/en/html/utils_8h.js  \n",
            "  inflating: fastText-0.9.1/website/static/docs/en/html/utils_8h_source.html  \n",
            "  inflating: fastText-0.9.1/website/static/docs/en/html/vector_8cc.html  \n",
            "  inflating: fastText-0.9.1/website/static/docs/en/html/vector_8cc.js  \n",
            "  inflating: fastText-0.9.1/website/static/docs/en/html/vector_8h.html  \n",
            "  inflating: fastText-0.9.1/website/static/docs/en/html/vector_8h.js  \n",
            "  inflating: fastText-0.9.1/website/static/docs/en/html/vector_8h_source.html  \n",
            "  inflating: fastText-0.9.1/website/static/fasttext.css  \n",
            "   creating: fastText-0.9.1/website/static/img/\n",
            "   creating: fastText-0.9.1/website/static/img/authors/\n",
            "  inflating: fastText-0.9.1/website/static/img/authors/armand_joulin.jpg  \n",
            "  inflating: fastText-0.9.1/website/static/img/authors/christian_puhrsch.png  \n",
            "  inflating: fastText-0.9.1/website/static/img/authors/edouard_grave.jpeg  \n",
            "  inflating: fastText-0.9.1/website/static/img/authors/piotr_bojanowski.jpg  \n",
            "  inflating: fastText-0.9.1/website/static/img/authors/tomas_mikolov.jpg  \n",
            "   creating: fastText-0.9.1/website/static/img/blog/\n",
            "  inflating: fastText-0.9.1/website/static/img/blog/2016-08-18-blog-post-img1.png  \n",
            "  inflating: fastText-0.9.1/website/static/img/blog/2016-08-18-blog-post-img2.png  \n",
            "  inflating: fastText-0.9.1/website/static/img/blog/2017-05-02-blog-post-img1.jpg  \n",
            "  inflating: fastText-0.9.1/website/static/img/blog/2017-05-02-blog-post-img2.jpg  \n",
            "  inflating: fastText-0.9.1/website/static/img/blog/2017-10-02-blog-post-img1.png  \n",
            "  inflating: fastText-0.9.1/website/static/img/cbo_vs_skipgram.png  \n",
            "  inflating: fastText-0.9.1/website/static/img/fasttext-icon-api.png  \n",
            "  inflating: fastText-0.9.1/website/static/img/fasttext-icon-bg-web.png  \n",
            "  inflating: fastText-0.9.1/website/static/img/fasttext-icon-color-square.png  \n",
            "  inflating: fastText-0.9.1/website/static/img/fasttext-icon-color-web.png  \n",
            "  inflating: fastText-0.9.1/website/static/img/fasttext-icon-faq.png  \n",
            "  inflating: fastText-0.9.1/website/static/img/fasttext-icon-tutorial.png  \n",
            "  inflating: fastText-0.9.1/website/static/img/fasttext-icon-white-web.png  \n",
            "  inflating: fastText-0.9.1/website/static/img/fasttext-logo-color-web.png  \n",
            "  inflating: fastText-0.9.1/website/static/img/fasttext-logo-white-web.png  \n",
            "  inflating: fastText-0.9.1/website/static/img/logo-color.png  \n",
            "  inflating: fastText-0.9.1/website/static/img/model-black.png  \n",
            "  inflating: fastText-0.9.1/website/static/img/model-blue.png  \n",
            "  inflating: fastText-0.9.1/website/static/img/model-red.png  \n",
            "  inflating: fastText-0.9.1/website/static/img/ogimage.png  \n",
            "  inflating: fastText-0.9.1/website/static/img/oss_logo.png  \n",
            "  inflating: fastText-0.9.1/wikifil.pl  \n",
            "  inflating: fastText-0.9.1/word-vector-example.sh  \n",
            "/content/fastText-0.9.1\n",
            "c++ -pthread -std=c++0x -march=native -O3 -funroll-loops -DNDEBUG -c src/args.cc\n",
            "c++ -pthread -std=c++0x -march=native -O3 -funroll-loops -DNDEBUG -c src/matrix.cc\n",
            "c++ -pthread -std=c++0x -march=native -O3 -funroll-loops -DNDEBUG -c src/dictionary.cc\n",
            "c++ -pthread -std=c++0x -march=native -O3 -funroll-loops -DNDEBUG -c src/loss.cc\n",
            "c++ -pthread -std=c++0x -march=native -O3 -funroll-loops -DNDEBUG -c src/productquantizer.cc\n",
            "c++ -pthread -std=c++0x -march=native -O3 -funroll-loops -DNDEBUG -c src/densematrix.cc\n",
            "c++ -pthread -std=c++0x -march=native -O3 -funroll-loops -DNDEBUG -c src/quantmatrix.cc\n",
            "c++ -pthread -std=c++0x -march=native -O3 -funroll-loops -DNDEBUG -c src/vector.cc\n",
            "c++ -pthread -std=c++0x -march=native -O3 -funroll-loops -DNDEBUG -c src/model.cc\n",
            "c++ -pthread -std=c++0x -march=native -O3 -funroll-loops -DNDEBUG -c src/utils.cc\n",
            "c++ -pthread -std=c++0x -march=native -O3 -funroll-loops -DNDEBUG -c src/meter.cc\n",
            "c++ -pthread -std=c++0x -march=native -O3 -funroll-loops -DNDEBUG -c src/fasttext.cc\n",
            "\u001b[01m\u001b[Ksrc/fasttext.cc:\u001b[m\u001b[K In member function ‘\u001b[01m\u001b[Kvoid fasttext::FastText::quantize(const fasttext::Args&)\u001b[m\u001b[K’:\n",
            "\u001b[01m\u001b[Ksrc/fasttext.cc:323:45:\u001b[m\u001b[K \u001b[01;35m\u001b[Kwarning: \u001b[m\u001b[K‘\u001b[01m\u001b[Kstd::vector<int> fasttext::FastText::selectEmbeddings(int32_t) const\u001b[m\u001b[K’ is deprecated: selectEmbeddings is being deprecated. [\u001b[01;35m\u001b[K-Wdeprecated-declarations\u001b[m\u001b[K]\n",
            "     auto idx = selectEmbeddings(qargs.cutoff\u001b[01;35m\u001b[K)\u001b[m\u001b[K;\n",
            "                                             \u001b[01;35m\u001b[K^\u001b[m\u001b[K\n",
            "\u001b[01m\u001b[Ksrc/fasttext.cc:293:22:\u001b[m\u001b[K \u001b[01;36m\u001b[Knote: \u001b[m\u001b[Kdeclared here\n",
            " std::vector<int32_t> \u001b[01;36m\u001b[KFastText\u001b[m\u001b[K::selectEmbeddings(int32_t cutoff) const {\n",
            "                      \u001b[01;36m\u001b[K^~~~~~~~\u001b[m\u001b[K\n",
            "\u001b[01m\u001b[Ksrc/fasttext.cc:\u001b[m\u001b[K In member function ‘\u001b[01m\u001b[Kvoid fasttext::FastText::lazyComputeWordVectors()\u001b[m\u001b[K’:\n",
            "\u001b[01m\u001b[Ksrc/fasttext.cc:551:40:\u001b[m\u001b[K \u001b[01;35m\u001b[Kwarning: \u001b[m\u001b[K‘\u001b[01m\u001b[Kvoid fasttext::FastText::precomputeWordVectors(fasttext::DenseMatrix&)\u001b[m\u001b[K’ is deprecated: precomputeWordVectors is being deprecated. [\u001b[01;35m\u001b[K-Wdeprecated-declarations\u001b[m\u001b[K]\n",
            "     precomputeWordVectors(*wordVectors_\u001b[01;35m\u001b[K)\u001b[m\u001b[K;\n",
            "                                        \u001b[01;35m\u001b[K^\u001b[m\u001b[K\n",
            "\u001b[01m\u001b[Ksrc/fasttext.cc:534:6:\u001b[m\u001b[K \u001b[01;36m\u001b[Knote: \u001b[m\u001b[Kdeclared here\n",
            " void \u001b[01;36m\u001b[KFastText\u001b[m\u001b[K::precomputeWordVectors(DenseMatrix& wordVectors) {\n",
            "      \u001b[01;36m\u001b[K^~~~~~~~\u001b[m\u001b[K\n",
            "c++ -pthread -std=c++0x -march=native -O3 -funroll-loops -DNDEBUG args.o matrix.o dictionary.o loss.o productquantizer.o densematrix.o quantmatrix.o vector.o model.o utils.o meter.o fasttext.o src/main.cc -o fasttext\n"
          ],
          "name": "stdout"
        }
      ]
    },
    {
      "cell_type": "markdown",
      "metadata": {
        "id": "nlk4_lq0FaXN",
        "colab_type": "text"
      },
      "source": [
        "Una vez instalado fasText, podemos empezar a entrenar modelos de representaciones vectoriales a partir de un corpus.\n",
        "\n",
        "Montamos el sistema de archivos de Drive:\n"
      ]
    },
    {
      "cell_type": "code",
      "metadata": {
        "id": "Z8-HwbBZFmwh",
        "colab_type": "code",
        "outputId": "89b28dda-4803-4686-fe70-8f7fff7f8c05",
        "colab": {
          "base_uri": "https://localhost:8080/",
          "height": 122
        }
      },
      "source": [
        "#Montamos el contenido de Google Drive\n",
        "from google.colab import drive\n",
        "drive.mount('/content/drive')"
      ],
      "execution_count": 0,
      "outputs": [
        {
          "output_type": "stream",
          "text": [
            "Go to this URL in a browser: https://accounts.google.com/o/oauth2/auth?client_id=947318989803-6bn6qk8qdgf4n4g3pfee6491hc0brc4i.apps.googleusercontent.com&redirect_uri=urn%3Aietf%3Awg%3Aoauth%3A2.0%3Aoob&scope=email%20https%3A%2F%2Fwww.googleapis.com%2Fauth%2Fdocs.test%20https%3A%2F%2Fwww.googleapis.com%2Fauth%2Fdrive%20https%3A%2F%2Fwww.googleapis.com%2Fauth%2Fdrive.photos.readonly%20https%3A%2F%2Fwww.googleapis.com%2Fauth%2Fpeopleapi.readonly&response_type=code\n",
            "\n",
            "Enter your authorization code:\n",
            "··········\n",
            "Mounted at /content/drive\n"
          ],
          "name": "stdout"
        }
      ]
    },
    {
      "cell_type": "markdown",
      "metadata": {
        "id": "gZJrFRpGvk-m",
        "colab_type": "text"
      },
      "source": [
        "Para entrenar el método de Fasttext, utilizaremos la combinación de dos corpus pequeños: a) el Corpus del Español Mexicano COntemporáneo (CEMC); y b) el corpus paralelo náhuatl-español Axolotl (la parte en español). \n",
        "\n",
        "\n",
        "El entrenamiento se hace a través de la línea de comandos, se pueden específicar diversos hiperparámetros ([Consultar documentación](https://fasttext.cc/docs/en/unsupervised-tutorial.html)). Dos parámetros necesarios son el archivo input y el archivo output, que generará el entrenamiento."
      ]
    },
    {
      "cell_type": "code",
      "metadata": {
        "id": "cWGuna4FHoWk",
        "colab_type": "code",
        "outputId": "7b74111d-a611-49e7-f6bc-ff6cd2c96b8a",
        "colab": {
          "base_uri": "https://localhost:8080/",
          "height": 34
        }
      },
      "source": [
        "#Se generan dos archivos: cemc.bin (modelo) y cemc.vec (este último es literalmente un archivo de texto con un vector por línea)\n",
        "#Se pueden descargar usando el visualizador de archivos (pestaña izq.) fastText-0.9.1/result\n",
        "!mkdir result \n",
        "!./fasttext cbow -input /content/drive/My\\ Drive/Curso_RIIAA/data/cemcytodo.txt  -output result/cemc"
      ],
      "execution_count": 0,
      "outputs": [
        {
          "output_type": "stream",
          "text": [
            "/bin/bash: ./fasttext: No such file or directory\n"
          ],
          "name": "stdout"
        }
      ]
    },
    {
      "cell_type": "markdown",
      "metadata": {
        "id": "wTlunIinIFRR",
        "colab_type": "text"
      },
      "source": [
        "Una vez generado el modelo, podemos utilizar estos vectores de diferentes maneras, por ejemplo para una palabra devolver las palabras más cercanas/similares:\n",
        "\n",
        "\n",
        "\n",
        "\n",
        "\n",
        "\n",
        "\n",
        "\n"
      ]
    },
    {
      "cell_type": "code",
      "metadata": {
        "id": "QILJGSOCZ8AY",
        "colab_type": "code",
        "outputId": "57628e43-d7ae-464f-af1b-0e269e338adf",
        "colab": {
          "base_uri": "https://localhost:8080/",
          "height": 221
        }
      },
      "source": [
        "!./fasttext nn result/cemc.bin"
      ],
      "execution_count": 0,
      "outputs": [
        {
          "output_type": "stream",
          "text": [
            "Query word? mole\n",
            "atole 0.975429\n",
            "metate 0.946135\n",
            "tomate 0.943589\n",
            "ole 0.939852\n",
            "échale 0.937425\n",
            "huele 0.935428\n",
            "hule 0.934699\n",
            "híjole 0.932914\n",
            "late 0.930711\n",
            "jitomate 0.92915\n",
            "Query word? ^C\n"
          ],
          "name": "stdout"
        }
      ]
    },
    {
      "cell_type": "markdown",
      "metadata": {
        "id": "OKbfZpFXJttb",
        "colab_type": "text"
      },
      "source": [
        "#2. Cargando los vectores en Python\n",
        "Podemos cargar los modelos obtenidos de Fasttext y manipularlos directamente desde python, utilizando el paquete gensim."
      ]
    },
    {
      "cell_type": "code",
      "metadata": {
        "id": "J-YIv9XMzuG2",
        "colab_type": "code",
        "outputId": "28eec589-414f-4ae4-afec-7f11d057bdcb",
        "colab": {
          "base_uri": "https://localhost:8080/",
          "height": 445
        }
      },
      "source": [
        "# Install / Upgrade Gensim\n",
        "!pip install --upgrade gensim"
      ],
      "execution_count": 0,
      "outputs": [
        {
          "output_type": "stream",
          "text": [
            "Collecting gensim\n",
            "\u001b[?25l  Downloading https://files.pythonhosted.org/packages/40/3d/89b27573f56abcd1b8c9598b240f53c45a3c79aa0924a24588e99716043b/gensim-3.8.0-cp36-cp36m-manylinux1_x86_64.whl (24.2MB)\n",
            "\u001b[K     |████████████████████████████████| 24.2MB 42.0MB/s \n",
            "\u001b[?25hRequirement already satisfied, skipping upgrade: six>=1.5.0 in /usr/local/lib/python3.6/dist-packages (from gensim) (1.12.0)\n",
            "Requirement already satisfied, skipping upgrade: scipy>=0.18.1 in /usr/local/lib/python3.6/dist-packages (from gensim) (1.3.1)\n",
            "Requirement already satisfied, skipping upgrade: numpy>=1.11.3 in /usr/local/lib/python3.6/dist-packages (from gensim) (1.16.4)\n",
            "Requirement already satisfied, skipping upgrade: smart-open>=1.7.0 in /usr/local/lib/python3.6/dist-packages (from gensim) (1.8.4)\n",
            "Requirement already satisfied, skipping upgrade: boto3 in /usr/local/lib/python3.6/dist-packages (from smart-open>=1.7.0->gensim) (1.9.205)\n",
            "Requirement already satisfied, skipping upgrade: requests in /usr/local/lib/python3.6/dist-packages (from smart-open>=1.7.0->gensim) (2.21.0)\n",
            "Requirement already satisfied, skipping upgrade: boto>=2.32 in /usr/local/lib/python3.6/dist-packages (from smart-open>=1.7.0->gensim) (2.49.0)\n",
            "Requirement already satisfied, skipping upgrade: s3transfer<0.3.0,>=0.2.0 in /usr/local/lib/python3.6/dist-packages (from boto3->smart-open>=1.7.0->gensim) (0.2.1)\n",
            "Requirement already satisfied, skipping upgrade: botocore<1.13.0,>=1.12.205 in /usr/local/lib/python3.6/dist-packages (from boto3->smart-open>=1.7.0->gensim) (1.12.205)\n",
            "Requirement already satisfied, skipping upgrade: jmespath<1.0.0,>=0.7.1 in /usr/local/lib/python3.6/dist-packages (from boto3->smart-open>=1.7.0->gensim) (0.9.4)\n",
            "Requirement already satisfied, skipping upgrade: idna<2.9,>=2.5 in /usr/local/lib/python3.6/dist-packages (from requests->smart-open>=1.7.0->gensim) (2.8)\n",
            "Requirement already satisfied, skipping upgrade: urllib3<1.25,>=1.21.1 in /usr/local/lib/python3.6/dist-packages (from requests->smart-open>=1.7.0->gensim) (1.24.3)\n",
            "Requirement already satisfied, skipping upgrade: chardet<3.1.0,>=3.0.2 in /usr/local/lib/python3.6/dist-packages (from requests->smart-open>=1.7.0->gensim) (3.0.4)\n",
            "Requirement already satisfied, skipping upgrade: certifi>=2017.4.17 in /usr/local/lib/python3.6/dist-packages (from requests->smart-open>=1.7.0->gensim) (2019.6.16)\n",
            "Requirement already satisfied, skipping upgrade: python-dateutil<3.0.0,>=2.1; python_version >= \"2.7\" in /usr/local/lib/python3.6/dist-packages (from botocore<1.13.0,>=1.12.205->boto3->smart-open>=1.7.0->gensim) (2.5.3)\n",
            "Requirement already satisfied, skipping upgrade: docutils<0.15,>=0.10 in /usr/local/lib/python3.6/dist-packages (from botocore<1.13.0,>=1.12.205->boto3->smart-open>=1.7.0->gensim) (0.14)\n",
            "Installing collected packages: gensim\n",
            "  Found existing installation: gensim 3.6.0\n",
            "    Uninstalling gensim-3.6.0:\n",
            "      Successfully uninstalled gensim-3.6.0\n",
            "Successfully installed gensim-3.8.0\n"
          ],
          "name": "stdout"
        }
      ]
    },
    {
      "cell_type": "markdown",
      "metadata": {
        "id": "gLZ5RmKNxC1h",
        "colab_type": "text"
      },
      "source": [
        "Cargamos el modelo:"
      ]
    },
    {
      "cell_type": "code",
      "metadata": {
        "id": "VZGMbBb4z5Ky",
        "colab_type": "code",
        "colab": {}
      },
      "source": [
        "from gensim.models.wrappers import FastText\n",
        "\n",
        "#Carga modelo pre-entrenado\n",
        "model = FastText.load_fasttext_format('result/cemc')\n"
      ],
      "execution_count": 0,
      "outputs": []
    },
    {
      "cell_type": "markdown",
      "metadata": {
        "id": "PVPV09yZ4iI6",
        "colab_type": "text"
      },
      "source": [
        "Una vez cargado el modelo podemos jugar con los vectores directamente desde python. Aquí también se pueden buscar palabras similares o bien determinar la similitud entre una y otra palabra:\n"
      ]
    },
    {
      "cell_type": "code",
      "metadata": {
        "id": "YfbIEd824_HK",
        "colab_type": "code",
        "outputId": "88399517-1062-4ae6-c919-6ba3bd1b9773",
        "colab": {
          "base_uri": "https://localhost:8080/",
          "height": 88
        }
      },
      "source": [
        "#Buscar las palabras más similares a query\n",
        "print(model.most_similar('azteca'))\n",
        "print(model.most_similar('mexicano'))\n",
        "\n",
        "#Similitud entre dos palabras dasdas\n",
        "print(model.similarity('mexico', 'país'))"
      ],
      "execution_count": 0,
      "outputs": [
        {
          "output_type": "stream",
          "text": [
            "[('zapoteca', 0.9707117676734924), ('barbilla', 0.9341251850128174), ('polla', 0.9327656626701355), ('chilena', 0.9314919114112854), ('azuela', 0.9312282800674438), ('orilla', 0.9310535192489624), ('bonilla', 0.9304966330528259), ('zorrilla', 0.9283484220504761), ('borbolla', 0.9271571040153503), ('chueca', 0.9267408847808838)]\n",
            "[('americano', 0.9683598279953003), ('mexico', 0.9493384957313538), ('norteamericano', 0.9465785622596741), ('africano', 0.933608889579773), ('republicano', 0.9239773750305176), ('mexicanismo', 0.9033154249191284), ('latinoamericano', 0.9010395407676697), ('universitario', 0.9005328416824341), ('organizador', 0.8923201560974121), ('italiano', 0.8891371488571167)]\n",
            "0.3114357\n"
          ],
          "name": "stdout"
        }
      ]
    },
    {
      "cell_type": "markdown",
      "metadata": {
        "id": "DSpQsJ0t7DeI",
        "colab_type": "text"
      },
      "source": [
        "Una de las ventajas de fastText es que, además de obtener los vectores de palabras que se encontraban en el vocabulario de entrenamiento, es capaz de construir representaciones vectoriales de palabras que no estaban en este vocabulario (*Out-Of-Vocabulary words, OOV*). Esto se realiza a través de una operación de composición de subwords."
      ]
    },
    {
      "cell_type": "code",
      "metadata": {
        "id": "Kn9y9H5E7cL1",
        "colab_type": "code",
        "outputId": "1d6355f9-d9ea-40ee-bc28-9cfad1b03d54",
        "colab": {
          "base_uri": "https://localhost:8080/",
          "height": 68
        }
      },
      "source": [
        "#Palabra dentro del vocabulario\n",
        "existent_word = \"computadora\"\n",
        "print(existent_word in model.wv.vocab)\n",
        "#Obtención del vector de esta palabra\n",
        "vector_computadora = model.wv[existent_word]\n",
        "\n",
        "#Palabra oov\n",
        "oov_word = \"computadorsota\"\n",
        "print(oov_word in model.wv.vocab)\n",
        "#Obtención del vector de oov\n",
        "vector_oov = model.wv[oov_word]\n",
        "\n",
        "#Similitud entre ambos\n",
        "print(model.similarity(existent_word, oov_word))"
      ],
      "execution_count": 0,
      "outputs": [
        {
          "output_type": "stream",
          "text": [
            "True\n",
            "False\n",
            "0.96310055\n"
          ],
          "name": "stdout"
        }
      ]
    },
    {
      "cell_type": "markdown",
      "metadata": {
        "id": "1ScNJI-qym2O",
        "colab_type": "text"
      },
      "source": [
        "#3. Agrupamiento con spectral clustering\n",
        "\n",
        "Una vez obtenidos los vectores de Fasttext, podemos aplicar el algoritmo de spectral clustering, vamos a agrupar y visualizar los datos obtenidos."
      ]
    },
    {
      "cell_type": "code",
      "metadata": {
        "id": "VFnmkPwryuQ3",
        "colab_type": "code",
        "colab": {}
      },
      "source": [
        "#Paquetería necesaria\n",
        "import numpy as np\n",
        "import matplotlib.pyplot as plt\n",
        "from sklearn.decomposition import PCA\n",
        "from sklearn.cluster import KMeans\n",
        "import pandas as pd\n",
        "import networkx as nx\n",
        "from scipy.linalg import eig\n",
        "from operator import itemgetter"
      ],
      "execution_count": 0,
      "outputs": []
    },
    {
      "cell_type": "markdown",
      "metadata": {
        "id": "mKnz0i0uzoHH",
        "colab_type": "text"
      },
      "source": [
        "Dado que Fasttext permite representar palabras OOV, podemos darle cualquier lista arbitraría de léxico y obtener vectores que los representen."
      ]
    },
    {
      "cell_type": "code",
      "metadata": {
        "id": "kWNifpNdHYW6",
        "colab_type": "code",
        "colab": {}
      },
      "source": [
        "#Lista de palabras para trabajar\n",
        "vocab_words = ['amo','amas','amamos','ama','aman','come','como','comemos','comen','toco','tocas','tocan','tocamos','gato','minino','gatito','gatos','mininos',\n",
        "               'flor','flores','mininito','computadora','computadoras']"
      ],
      "execution_count": 0,
      "outputs": []
    },
    {
      "cell_type": "markdown",
      "metadata": {
        "id": "Q75NRHQv0E5Q",
        "colab_type": "text"
      },
      "source": [
        "Obtenemos los vectores que representan a las palabras anteriores y los guardamos en un arreglo."
      ]
    },
    {
      "cell_type": "code",
      "metadata": {
        "id": "fZzWyHEBIL3p",
        "colab_type": "code",
        "outputId": "093c42da-5fdb-44fe-db68-eb9bf074a54d",
        "colab": {
          "base_uri": "https://localhost:8080/",
          "height": 34
        }
      },
      "source": [
        "#Tamaño del vocabulario\n",
        "N = len(vocab_words)\n",
        "\n",
        "#Matrix de NxNúmero de dimmensiones\n",
        "X = np.zeros((N,100))\n",
        "#Llenamos la matriz con los vectores palabra\n",
        "for i,w in enumerate(vocab_words):\n",
        "  X[i] = model.wv[w]\n",
        "\n",
        "print(X.shape)"
      ],
      "execution_count": 0,
      "outputs": [
        {
          "output_type": "stream",
          "text": [
            "(23, 100)\n"
          ],
          "name": "stdout"
        }
      ]
    },
    {
      "cell_type": "markdown",
      "metadata": {
        "id": "4jN76ZUw0eFT",
        "colab_type": "text"
      },
      "source": [
        "Podemos visualizar estos datos a partir de la siguiente función:"
      ]
    },
    {
      "cell_type": "code",
      "metadata": {
        "id": "SxSusFRIIDOd",
        "colab_type": "code",
        "outputId": "084c418b-764b-4d2f-8600-0fcf68a81b8f",
        "colab": {
          "base_uri": "https://localhost:8080/",
          "height": 269
        }
      },
      "source": [
        "#Función para plotear\n",
        "def plot_words(Z,ids,color='blue'):\n",
        "    #Reduce a dos dimensiones con PCA\n",
        "    Z = PCA(n_components=2).fit_transform(Z)\n",
        "    r=0\n",
        "    #Plotea las dimensiones\n",
        "    plt.scatter(Z[:,0],Z[:,1], marker='o', c=color)\n",
        "    for label,x,y in zip(ids, Z[:,0], Z[:,1]):\n",
        "        #Agrega las etiquetas\n",
        "        plt.annotate(label, xy=(x,y), xytext=(-1,1), textcoords='offset points', ha='center', va='bottom')\n",
        "        r+=1\n",
        "\n",
        "#Ploteo de los datos\n",
        "plot_words(X, vocab_words)\n",
        "plt.show()"
      ],
      "execution_count": 0,
      "outputs": [
        {
          "output_type": "display_data",
          "data": {
            "image/png": "[encoded data removed]",
            "text/plain": [
              "<Figure size 432x288 with 1 Axes>"
            ]
          },
          "metadata": {
            "tags": []
          }
        }
      ]
    },
    {
      "cell_type": "markdown",
      "metadata": {
        "id": "NqUKkO9J0xe6",
        "colab_type": "text"
      },
      "source": [
        "A partir de la matriz de vectores, aplicaremos el algoritmo de spectral clustering. Para esto, crearemos una matriz de adyacencia que represente al grafo. Utilizaremos la siguiente función kernel para cuantificar la similitud entre dos vectores $$k(u,v) = \\frac{1}{||u-v||+1}$$\n",
        "Además, utilizaremos un planteamiento de k-nearest graph, donde sólo consideraremos adyacentes los k-vecinos más cercanos."
      ]
    },
    {
      "cell_type": "code",
      "metadata": {
        "id": "3v83-Oj5LLyW",
        "colab_type": "code",
        "outputId": "fefe4cb3-3903-4483-d47c-fdee5310a69c",
        "colab": {
          "base_uri": "https://localhost:8080/",
          "height": 34
        }
      },
      "source": [
        "#Matriz de adyacencia\n",
        "A = np.zeros((N,N))\n",
        "\n",
        "for k,u in enumerate(X):\n",
        "  #Vecinos de u, con sus distancias\n",
        "  candidates_for_k = {}\n",
        "  \n",
        "  for j,v in enumerate(X):\n",
        "    #Distancia euclideana\n",
        "    dist = np.linalg.norm(u-v)\n",
        "    #Guarda la distancia de los  vecinos\n",
        "    candidates_for_k[j] = dist\n",
        "    \n",
        "  #Ordena los vecinos por distancia  \n",
        "  neighbors = sorted(candidates_for_k.items(), key=itemgetter(1))\n",
        "  #El primer vecino es siempre el mismo nodo (||u-u||=0)\n",
        "  neighbors.pop(0)\n",
        "  \n",
        "  #Toma los 1-vecinos más cercanos\n",
        "  nn = neighbors[:1]\n",
        "  \n",
        "  for neigh, weight in nn:\n",
        "    #Llena la matriz de adyacencia\n",
        "    A[k,neigh] = 1./(weight+1) \n",
        "    A[neigh,k] = 1./(weight+1) \n",
        "\n",
        "print(A.shape)      "
      ],
      "execution_count": 0,
      "outputs": [
        {
          "output_type": "stream",
          "text": [
            "(23, 23)\n"
          ],
          "name": "stdout"
        }
      ]
    },
    {
      "cell_type": "code",
      "metadata": {
        "id": "4n6cvviqMiR1",
        "colab_type": "code",
        "outputId": "11d9ee28-a647-4011-c8de-b4dcf91c3c67",
        "colab": {
          "base_uri": "https://localhost:8080/",
          "height": 34
        }
      },
      "source": [
        "#Se comprueba que la matriz sea simétrica\n",
        "print((A == A.T).all())"
      ],
      "execution_count": 0,
      "outputs": [
        {
          "output_type": "stream",
          "text": [
            "True\n"
          ],
          "name": "stdout"
        }
      ]
    },
    {
      "cell_type": "markdown",
      "metadata": {
        "id": "EUi3Wouc16Xo",
        "colab_type": "text"
      },
      "source": [
        "Podemos visualizar la matriz de adyacencia en un formato de tabla:"
      ]
    },
    {
      "cell_type": "code",
      "metadata": {
        "id": "NdTD5S5TXXMp",
        "colab_type": "code",
        "outputId": "8e62237d-f806-40ed-8fc1-200b2de2ee8a",
        "colab": {
          "base_uri": "https://localhost:8080/",
          "height": 445
        }
      },
      "source": [
        "#Formato de tabla con Pandas\n",
        "df = pd.DataFrame(A, index=vocab_words, columns=vocab_words)\n",
        "print(df.to_string())"
      ],
      "execution_count": 0,
      "outputs": [
        {
          "output_type": "stream",
          "text": [
            "                   amo      amas    amamos       ama      aman      come      como   comemos     comen      toco    tocas     tocan   tocamos      gato    minino    gatito     gatos   mininos      flor    flores  mininito  computadora  computadoras\n",
            "amo           0.000000  0.000000  0.000000  0.143727  0.000000  0.000000  0.000000  0.000000  0.000000  0.000000  0.00000  0.000000  0.000000  0.000000  0.000000  0.161970  0.000000  0.000000  0.000000  0.000000  0.000000     0.000000      0.000000\n",
            "amas          0.000000  0.000000  0.000000  0.000000  0.000000  0.000000  0.000000  0.000000  0.000000  0.000000  0.16533  0.000000  0.000000  0.000000  0.000000  0.000000  0.000000  0.000000  0.000000  0.139763  0.000000     0.000000      0.000000\n",
            "amamos        0.000000  0.000000  0.000000  0.000000  0.000000  0.000000  0.000000  0.000000  0.000000  0.000000  0.00000  0.000000  0.322724  0.000000  0.000000  0.000000  0.000000  0.000000  0.000000  0.000000  0.000000     0.000000      0.000000\n",
            "ama           0.143727  0.000000  0.000000  0.000000  0.000000  0.000000  0.000000  0.000000  0.000000  0.000000  0.00000  0.000000  0.000000  0.000000  0.000000  0.000000  0.000000  0.000000  0.139422  0.000000  0.000000     0.000000      0.000000\n",
            "aman          0.000000  0.000000  0.000000  0.000000  0.000000  0.000000  0.000000  0.000000  0.000000  0.000000  0.00000  0.207049  0.000000  0.000000  0.000000  0.000000  0.000000  0.000000  0.000000  0.000000  0.000000     0.000000      0.000000\n",
            "come          0.000000  0.000000  0.000000  0.000000  0.000000  0.000000  0.000000  0.000000  0.000000  0.165684  0.00000  0.000000  0.000000  0.000000  0.000000  0.000000  0.000000  0.000000  0.000000  0.000000  0.000000     0.000000      0.000000\n",
            "como          0.000000  0.000000  0.000000  0.000000  0.000000  0.000000  0.000000  0.000000  0.000000  0.000000  0.00000  0.000000  0.000000  0.000000  0.000000  0.000000  0.000000  0.000000  0.000000  0.000000  0.000000     0.197728      0.000000\n",
            "comemos       0.000000  0.000000  0.000000  0.000000  0.000000  0.000000  0.000000  0.000000  0.000000  0.000000  0.00000  0.000000  0.275011  0.000000  0.000000  0.000000  0.000000  0.000000  0.000000  0.000000  0.000000     0.000000      0.000000\n",
            "comen         0.000000  0.000000  0.000000  0.000000  0.000000  0.000000  0.000000  0.000000  0.000000  0.000000  0.00000  0.205471  0.000000  0.000000  0.000000  0.000000  0.000000  0.000000  0.000000  0.000000  0.000000     0.000000      0.000000\n",
            "toco          0.000000  0.000000  0.000000  0.000000  0.000000  0.165684  0.000000  0.000000  0.000000  0.000000  0.00000  0.000000  0.000000  0.000000  0.000000  0.228812  0.000000  0.000000  0.000000  0.000000  0.000000     0.000000      0.000000\n",
            "tocas         0.000000  0.165330  0.000000  0.000000  0.000000  0.000000  0.000000  0.000000  0.000000  0.000000  0.00000  0.000000  0.000000  0.000000  0.000000  0.000000  0.000000  0.000000  0.000000  0.000000  0.000000     0.000000      0.000000\n",
            "tocan         0.000000  0.000000  0.000000  0.000000  0.207049  0.000000  0.000000  0.000000  0.205471  0.000000  0.00000  0.000000  0.000000  0.000000  0.000000  0.000000  0.000000  0.000000  0.000000  0.000000  0.000000     0.000000      0.000000\n",
            "tocamos       0.000000  0.000000  0.322724  0.000000  0.000000  0.000000  0.000000  0.275011  0.000000  0.000000  0.00000  0.000000  0.000000  0.000000  0.000000  0.000000  0.000000  0.000000  0.000000  0.000000  0.000000     0.000000      0.000000\n",
            "gato          0.000000  0.000000  0.000000  0.000000  0.000000  0.000000  0.000000  0.000000  0.000000  0.000000  0.00000  0.000000  0.000000  0.000000  0.000000  0.282277  0.000000  0.000000  0.000000  0.000000  0.000000     0.000000      0.000000\n",
            "minino        0.000000  0.000000  0.000000  0.000000  0.000000  0.000000  0.000000  0.000000  0.000000  0.000000  0.00000  0.000000  0.000000  0.000000  0.000000  0.000000  0.000000  0.000000  0.000000  0.000000  0.278849     0.000000      0.000000\n",
            "gatito        0.161970  0.000000  0.000000  0.000000  0.000000  0.000000  0.000000  0.000000  0.000000  0.228812  0.00000  0.000000  0.000000  0.282277  0.000000  0.000000  0.000000  0.000000  0.000000  0.000000  0.289433     0.000000      0.000000\n",
            "gatos         0.000000  0.000000  0.000000  0.000000  0.000000  0.000000  0.000000  0.000000  0.000000  0.000000  0.00000  0.000000  0.000000  0.000000  0.000000  0.000000  0.000000  0.209625  0.000000  0.000000  0.000000     0.000000      0.000000\n",
            "mininos       0.000000  0.000000  0.000000  0.000000  0.000000  0.000000  0.000000  0.000000  0.000000  0.000000  0.00000  0.000000  0.000000  0.000000  0.000000  0.000000  0.209625  0.000000  0.000000  0.000000  0.000000     0.000000      0.000000\n",
            "flor          0.000000  0.000000  0.000000  0.139422  0.000000  0.000000  0.000000  0.000000  0.000000  0.000000  0.00000  0.000000  0.000000  0.000000  0.000000  0.000000  0.000000  0.000000  0.000000  0.000000  0.000000     0.000000      0.000000\n",
            "flores        0.000000  0.139763  0.000000  0.000000  0.000000  0.000000  0.000000  0.000000  0.000000  0.000000  0.00000  0.000000  0.000000  0.000000  0.000000  0.000000  0.000000  0.000000  0.000000  0.000000  0.000000     0.000000      0.000000\n",
            "mininito      0.000000  0.000000  0.000000  0.000000  0.000000  0.000000  0.000000  0.000000  0.000000  0.000000  0.00000  0.000000  0.000000  0.000000  0.278849  0.289433  0.000000  0.000000  0.000000  0.000000  0.000000     0.000000      0.000000\n",
            "computadora   0.000000  0.000000  0.000000  0.000000  0.000000  0.000000  0.197728  0.000000  0.000000  0.000000  0.00000  0.000000  0.000000  0.000000  0.000000  0.000000  0.000000  0.000000  0.000000  0.000000  0.000000     0.000000      0.233841\n",
            "computadoras  0.000000  0.000000  0.000000  0.000000  0.000000  0.000000  0.000000  0.000000  0.000000  0.000000  0.00000  0.000000  0.000000  0.000000  0.000000  0.000000  0.000000  0.000000  0.000000  0.000000  0.000000     0.233841      0.000000\n"
          ],
          "name": "stdout"
        }
      ]
    },
    {
      "cell_type": "markdown",
      "metadata": {
        "id": "VrvHSQL92HyB",
        "colab_type": "text"
      },
      "source": [
        "También podemos visualizar el grafo en formato de red:"
      ]
    },
    {
      "cell_type": "code",
      "metadata": {
        "id": "7I7hnHwPWs6s",
        "colab_type": "code",
        "outputId": "91ea6842-c6cb-48b8-db2d-932e6abc8594",
        "colab": {
          "base_uri": "https://localhost:8080/",
          "height": 255
        }
      },
      "source": [
        "#Indexado de labels\n",
        "edges = {i:dat for i,dat in enumerate(vocab_words)}\n",
        "\n",
        "#Formato de red con Networkx\n",
        "nx.draw_networkx(nx.from_numpy_array(A), with_labels=True, labels=edges, font_size=8)"
      ],
      "execution_count": 0,
      "outputs": [
        {
          "output_type": "display_data",
          "data": {
            "image/png": "[encoded data removed]",
            "text/plain": [
              "<Figure size 432x288 with 1 Axes>"
            ]
          },
          "metadata": {
            "tags": []
          }
        }
      ]
    },
    {
      "cell_type": "markdown",
      "metadata": {
        "id": "lckQ_NRO2YUr",
        "colab_type": "text"
      },
      "source": [
        "Ya que hemos obtenido la matriz de adyacencia, podemos calcular la matriz Laplaciana y obtener su descomposición espectral."
      ]
    },
    {
      "cell_type": "code",
      "metadata": {
        "id": "y9xUfFKjM1k0",
        "colab_type": "code",
        "outputId": "645de6b9-f655-4d4f-d50c-f0dc38a3e2b0",
        "colab": {
          "base_uri": "https://localhost:8080/",
          "height": 269
        }
      },
      "source": [
        "#Se obtiene la matriz Laplaciana\n",
        "L = np.diag(A.sum(0)) - A\n",
        "\n",
        "#Se calculan los eigen valores y eigen vectores de L\n",
        "eig_vals, eig_vecs = eig(L)\n",
        "\n",
        "#Se ordenan con respecto a los eigenvalores\n",
        "values = sorted(zip(eig_vals.real,eig_vecs), key=itemgetter(0))\n",
        "\n",
        "#Obtenemos ambos eigens\n",
        "vals, vecs = zip(*values)\n",
        "\n",
        "#Se crea una matriz de eigenvectores\n",
        "matrix = np.array(vecs)\n",
        "\n",
        "#Visualización de eigenvalores\n",
        "plt.plot(np.array(vals),'o')\n",
        "plt.show()"
      ],
      "execution_count": 0,
      "outputs": [
        {
          "output_type": "display_data",
          "data": {
            "image/png": "[encoded data removed]",
            "text/plain": [
              "<Figure size 432x288 with 1 Axes>"
            ]
          },
          "metadata": {
            "tags": []
          }
        }
      ]
    },
    {
      "cell_type": "markdown",
      "metadata": {
        "id": "Cb8Higw22rSD",
        "colab_type": "text"
      },
      "source": [
        "Tomamos, entonces, los k eigenvectores que mejor representen nuestros datos y así podemos visualizar los resultados obtenidos con la función de ploteo que hemos definido más arriba."
      ]
    },
    {
      "cell_type": "code",
      "metadata": {
        "id": "TjqSMGlUZcV_",
        "colab_type": "code",
        "outputId": "dab3778e-400d-4ce3-ec15-1887985f3446",
        "colab": {
          "base_uri": "https://localhost:8080/",
          "height": 286
        }
      },
      "source": [
        "#Obtiene la matriz de eigenvectores laplacianos\n",
        "X_hat = matrix[5:17].T.real\n",
        "\n",
        "#Ploteo de datos\n",
        "print(X_hat.shape)\n",
        "plot_words(X_hat,vocab_words)\n",
        "plt.show()"
      ],
      "execution_count": 0,
      "outputs": [
        {
          "output_type": "stream",
          "text": [
            "(23, 12)\n"
          ],
          "name": "stdout"
        },
        {
          "output_type": "display_data",
          "data": {
            "image/png": "[encoded data removed]",
            "text/plain": [
              "<Figure size 432x288 with 1 Axes>"
            ]
          },
          "metadata": {
            "tags": []
          }
        }
      ]
    },
    {
      "cell_type": "markdown",
      "metadata": {
        "id": "727AxYAX29Or",
        "colab_type": "text"
      },
      "source": [
        "Finalmente, aplicamos k-medias para descubrir grupos en los datos proyectados:"
      ]
    },
    {
      "cell_type": "code",
      "metadata": {
        "id": "zedOPagEaaWv",
        "colab_type": "code",
        "outputId": "800cb310-a196-4fb3-ac4e-9d481fd4dcea",
        "colab": {
          "base_uri": "https://localhost:8080/",
          "height": 269
        }
      },
      "source": [
        "#Número de centroides\n",
        "centroids=10\n",
        "#Aplicación de kmenas\n",
        "kmeans = KMeans(n_clusters=centroids).fit(X_hat)\n",
        "\n",
        "#Obtención de los clusters\n",
        "pred_lables = kmeans.predict(X_hat)\n",
        "\n",
        "#Plot de clusters\n",
        "plot_words(X_hat, vocab_words, color=pred_lables)\n",
        "plt.show()"
      ],
      "execution_count": 0,
      "outputs": [
        {
          "output_type": "display_data",
          "data": {
            "image/png": "[encoded data removed]",
            "text/plain": [
              "<Figure size 432x288 with 1 Axes>"
            ]
          },
          "metadata": {
            "tags": []
          }
        }
      ]
    },
    {
      "cell_type": "markdown",
      "metadata": {
        "id": "bwtxswntI5lN",
        "colab_type": "text"
      },
      "source": [
        "\n",
        "---\n",
        "\n",
        "### Alternativa opcional\n",
        "\n",
        "Se puede aplicar Fasttext a una fracción de corpus real de Wikipedia en inglés (muy tardado entrenar)\n"
      ]
    },
    {
      "cell_type": "code",
      "metadata": {
        "id": "i7daJBOkXMY0",
        "colab_type": "code",
        "outputId": "d10abf18-12f3-414f-a451-9094d90332ba",
        "colab": {
          "base_uri": "https://localhost:8080/",
          "height": 272
        }
      },
      "source": [
        "!mkdir data\n",
        "!wget -c http://mattmahoney.net/dc/enwik9.zip -P data\n",
        "!unzip data/enwik9.zip -d data\n"
      ],
      "execution_count": 0,
      "outputs": [
        {
          "output_type": "stream",
          "text": [
            "--2019-08-15 21:52:28--  http://mattmahoney.net/dc/enwik9.zip\n",
            "Resolving mattmahoney.net (mattmahoney.net)... 67.195.197.75\n",
            "Connecting to mattmahoney.net (mattmahoney.net)|67.195.197.75|:80... connected.\n",
            "HTTP request sent, awaiting response... 200 OK\n",
            "Length: 322592222 (308M) [application/zip]\n",
            "Saving to: ‘data/enwik9.zip’\n",
            "\n",
            "enwik9.zip           18%[==>                 ]  57.90M   855KB/s    eta 5m 1s  ^C\n",
            "Archive:  data/enwik9.zip\n",
            "  End-of-central-directory signature not found.  Either this file is not\n",
            "  a zipfile, or it constitutes one disk of a multi-part archive.  In the\n",
            "  latter case the central directory and zipfile comment will be found on\n",
            "  the last disk(s) of this archive.\n",
            "unzip:  cannot find zipfile directory in one of data/enwik9.zip or\n",
            "        data/enwik9.zip.zip, and cannot find data/enwik9.zip.ZIP, period.\n"
          ],
          "name": "stdout"
        }
      ]
    },
    {
      "cell_type": "code",
      "metadata": {
        "id": "3f1GotZUdvFy",
        "colab_type": "code",
        "outputId": "12c3d100-609f-4b5a-87e0-886506b64c4b",
        "colab": {
          "base_uri": "https://localhost:8080/",
          "height": 34
        }
      },
      "source": [
        "!perl wikifil.pl data/enwik9 > data/fil9"
      ],
      "execution_count": 0,
      "outputs": [
        {
          "output_type": "stream",
          "text": [
            "Can't open data/enwik9: No such file or directory at wikifil.pl line 12.\n"
          ],
          "name": "stdout"
        }
      ]
    },
    {
      "cell_type": "code",
      "metadata": {
        "id": "sMlPfsP9eAiq",
        "colab_type": "code",
        "outputId": "0b01745c-a581-4d03-da50-a2637309f8bb",
        "colab": {
          "base_uri": "https://localhost:8080/",
          "height": 119
        }
      },
      "source": [
        "!mkdir result\n",
        "!./fasttext cbow -input data/fil9 -output result/fil9"
      ],
      "execution_count": 0,
      "outputs": [
        {
          "output_type": "stream",
          "text": [
            "mkdir: cannot create directory ‘result’: File exists\n",
            "Read 0M words\n",
            "Number of words:  0\n",
            "Number of labels: 0\n",
            "terminate called after throwing an instance of 'std::invalid_argument'\n",
            "  what():  Empty vocabulary. Try a smaller -minCount value.\n"
          ],
          "name": "stdout"
        }
      ]
    }
  ]
}