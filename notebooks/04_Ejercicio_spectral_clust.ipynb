{
  "nbformat": 4,
  "nbformat_minor": 0,
  "metadata": {
    "colab": {
      "name": "Copy of 02 Cluster_espectral_de_documentos.ipynb",
      "version": "0.3.2",
      "provenance": [],
      "collapsed_sections": []
    },
    "kernelspec": {
      "name": "python3",
      "display_name": "Python 3"
    }
  },
  "cells": [
    {
      "cell_type": "markdown",
      "metadata": {
        "id": "LSC0uU9EV5MC",
        "colab_type": "text"
      },
      "source": [
        "# Ejercicio: Spectral clustering para documentos\n",
        "\n",
        "El clustering espectral es una técnica de agrupamiento basada en la topología de gráficas. Es especialmente útil cuando los datos no son convexos o cuando se trabaja, directamente, con estructuras de grafos.\n",
        "\n",
        "##Preparación d elos documentos\n",
        "\n",
        "Trabajaremos con documentos textuales. Estos se limpiarán y se convertirán en vectores. Posteriormente, podremos aplicar el método de spectral clustering."
      ]
    },
    {
      "cell_type": "code",
      "metadata": {
        "id": "hD45j5uNV39r",
        "colab_type": "code",
        "colab": {}
      },
      "source": [
        "#Se importan las librerías necesarias\n",
        "import numpy as np\n",
        "import matplotlib.pyplot as plt\n",
        "from sklearn.decomposition import PCA\n",
        "from gensim.models.doc2vec import Doc2Vec, TaggedDocument"
      ],
      "execution_count": 0,
      "outputs": []
    },
    {
      "cell_type": "markdown",
      "metadata": {
        "id": "MVpcEziPX3St",
        "colab_type": "text"
      },
      "source": [
        "La librería de Natural Language Toolkit (nltk) proporciona algunos corpus con los que se puede trabajar. Por ejemplo, el cropus Gutenberg (https://web.eecs.umich.edu/~lahiri/gutenberg_dataset.html) del que usaremos algunos datos. Asimismo, obtendremos de esta librería herramientas de preprocesamiento: stemmer y lista de stopwords."
      ]
    },
    {
      "cell_type": "code",
      "metadata": {
        "id": "D7CYyJsgXzpj",
        "colab_type": "code",
        "outputId": "4f477818-dfc7-49d9-a247-fa65f5d74180",
        "colab": {
          "base_uri": "https://localhost:8080/",
          "height": 85
        }
      },
      "source": [
        "import nltk\n",
        "#Descarga del corpus\n",
        "nltk.download('gutenberg')\n",
        "#Descarga de la lista de stopwords\n",
        "nltk.download('stopwords')\n",
        "\n",
        "from nltk.corpus import gutenberg\n",
        "from nltk.corpus import stopwords\n",
        "from nltk.stem import PorterStemmer"
      ],
      "execution_count": 0,
      "outputs": [
        {
          "output_type": "stream",
          "text": [
            "[nltk_data] Downloading package gutenberg to /root/nltk_data...\n",
            "[nltk_data]   Unzipping corpora/gutenberg.zip.\n",
            "[nltk_data] Downloading package stopwords to /root/nltk_data...\n",
            "[nltk_data]   Unzipping corpora/stopwords.zip.\n"
          ],
          "name": "stdout"
        }
      ]
    },
    {
      "cell_type": "markdown",
      "metadata": {
        "id": "TpkcUJ3pYuF8",
        "colab_type": "text"
      },
      "source": [
        "Definimos los nombres de los archivos (ids) y la lista de paro"
      ]
    },
    {
      "cell_type": "code",
      "metadata": {
        "id": "s_ZsL2RkY0lw",
        "colab_type": "code",
        "colab": {}
      },
      "source": [
        "#Obtiene ids de los archivos del corpus gutenberg\n",
        "doc_labels = gutenberg.fileids()\n",
        "\n",
        "#Lista de stopwords para inglés\n",
        "lista_paro = stopwords.words('english')"
      ],
      "execution_count": 0,
      "outputs": []
    },
    {
      "cell_type": "markdown",
      "metadata": {
        "id": "ngq9hIPXZYdt",
        "colab_type": "text"
      },
      "source": [
        "Definiremos una función que se encargará de preprocesar los textos. Se eliminan símbolos, se quitan elementos de la lista de stopwords y se pasa todo a minúsculas."
      ]
    },
    {
      "cell_type": "code",
      "metadata": {
        "id": "GUxIcNHUZUaC",
        "colab_type": "code",
        "colab": {}
      },
      "source": [
        "def preprocess(document):\n",
        "  #Lista que guarda  archivos limpios\n",
        "  text = []\n",
        "  for word in document:\n",
        "    #Minúsculas\n",
        "    word = word.lower()\n",
        "    #Elimina stopwords y símbolos\n",
        "    if word not in lista_paro and word.isalpha() == True:\n",
        "      #Se aplica stemming\n",
        "      text.append(PorterStemmer().stem(word))\n",
        "  return text"
      ],
      "execution_count": 0,
      "outputs": []
    },
    {
      "cell_type": "markdown",
      "metadata": {
        "id": "zGZ-FivRaP3Z",
        "colab_type": "text"
      },
      "source": [
        "Por cada documento, obtenemos la lista de sus palabras (stems) aplicando un preprocesado. Cada documento, entonces, es de la forma $d_i = \\{w_1, w_2, ..., w_{N_i}\\}$, donde $w_k$ son los stems del documento."
      ]
    },
    {
      "cell_type": "code",
      "metadata": {
        "id": "_dDmeqR7Z4au",
        "colab_type": "code",
        "outputId": "d0cc2934-0a06-4a01-e03e-f46598d0eaf6",
        "colab": {
          "base_uri": "https://localhost:8080/",
          "height": 323
        }
      },
      "source": [
        "docs = []\n",
        "for doc in doc_labels:\n",
        "  #Lista de palabras del documentos\n",
        "  arx = gutenberg.words(doc)\n",
        "  #Aplica la función de preprocesado\n",
        "  arx_prep = preprocess(arx)\n",
        "  docs.append(arx_prep)\n",
        "  #Imprime el nombre del documento, su longitud original y su longitud con preproceso\n",
        "  print(doc,len(arx), len(arx_prep))"
      ],
      "execution_count": 0,
      "outputs": [
        {
          "output_type": "stream",
          "text": [
            "austen-emma.txt 192427 73149\n",
            "austen-persuasion.txt 98171 38337\n",
            "austen-sense.txt 141576 53986\n",
            "bible-kjv.txt 1010654 374945\n",
            "blake-poems.txt 8354 3805\n",
            "bryant-stories.txt 55563 21718\n",
            "burgess-busterbrown.txt 18963 7582\n",
            "carroll-alice.txt 34110 12240\n",
            "chesterton-ball.txt 96996 39715\n",
            "chesterton-brown.txt 86063 35348\n",
            "chesterton-thursday.txt 69213 28328\n",
            "edgeworth-parents.txt 210663 78148\n",
            "melville-moby_dick.txt 260819 110459\n",
            "milton-paradise.txt 96825 45568\n",
            "shakespeare-caesar.txt 25833 11056\n",
            "shakespeare-hamlet.txt 37360 15898\n",
            "shakespeare-macbeth.txt 23140 10078\n",
            "whitman-leaves.txt 154883 65080\n"
          ],
          "name": "stdout"
        }
      ]
    },
    {
      "cell_type": "markdown",
      "metadata": {
        "id": "NSvWHcdga7ko",
        "colab_type": "text"
      },
      "source": [
        "Posteriormente, convertiremos cada documento en un vector en $\\mathbb{R}^d$. Para esto, utilizaremos el algoritmo Doc2Vec."
      ]
    },
    {
      "cell_type": "code",
      "metadata": {
        "id": "Vl2OjvCJbJuS",
        "colab_type": "code",
        "outputId": "a2be83ca-306e-4369-d76e-27cb75db6782",
        "colab": {
          "base_uri": "https://localhost:8080/",
          "height": 238
        }
      },
      "source": [
        "#Dimensión de los vectores\n",
        "dim = 300\n",
        "#tamaño de la ventana de contexto\n",
        "windows_siz = 15\n",
        "\n",
        "#Indexa los documentos con valores enteros\n",
        "documents = [TaggedDocument(doc_i, [i]) for i, doc_i in enumerate(docs)]\n",
        "#Aplica el modelo de Doc2Vec\n",
        "model = Doc2Vec(documents, vector_size=dim, window=windows_siz, min_count=1)\n",
        "\n",
        "#Matriz de datos\n",
        "X = np.zeros((len(doc_labels),dim))\n",
        "for j in range(0,len(doc_labels)):\n",
        "  #Crea la matriz con los vectores de Doc2Vec\n",
        "  X[j] = model.docvecs[j]\n",
        "  \n",
        "print(X)"
      ],
      "execution_count": 0,
      "outputs": [
        {
          "output_type": "stream",
          "text": [
            "[[-0.71790749  0.52590156  0.04665314 ... -1.11765587  0.27269235\n",
            "   0.17521498]\n",
            " [-0.99053538  0.81888688  0.08494744 ... -1.4580884   0.35552233\n",
            "   0.36190808]\n",
            " [-1.1343857   0.89900047  0.07679608 ... -1.67795575  0.4307873\n",
            "   0.40497407]\n",
            " ...\n",
            " [-1.57137489  1.01522303  0.13583013 ... -2.54420257  0.6712212\n",
            "   0.23293038]\n",
            " [-1.57902765  1.01099396  0.12562202 ... -2.54485178  0.67597187\n",
            "   0.24470329]\n",
            " [-0.93969488  0.65869391  0.03659648 ... -1.44744205  0.37233579\n",
            "   0.26923421]]\n"
          ],
          "name": "stdout"
        }
      ]
    },
    {
      "cell_type": "markdown",
      "metadata": {
        "id": "k3UeECRFb8TL",
        "colab_type": "text"
      },
      "source": [
        "###Visualización"
      ]
    },
    {
      "cell_type": "code",
      "metadata": {
        "id": "D-6w-BeQcC3D",
        "colab_type": "code",
        "outputId": "2934fe91-7625-4f25-b19c-f69635e018b4",
        "colab": {
          "base_uri": "https://localhost:8080/",
          "height": 269
        }
      },
      "source": [
        "#Función para plotear\n",
        "def plot_words(Z,ids,color='blue'):\n",
        "    #Reduce a dos dimensiones con PCA\n",
        "    Z = PCA(n_components=2).fit_transform(Z)\n",
        "    r=0\n",
        "    #Plotea las dimensiones\n",
        "    plt.scatter(Z[:,0],Z[:,1], marker='o', c=color)\n",
        "    for label,x,y in zip(ids, Z[:,0], Z[:,1]):\n",
        "        #Agrega las etiquetas\n",
        "        plt.annotate(label, xy=(x,y), xytext=(-1,1), textcoords='offset points', ha='center', va='bottom')\n",
        "        r+=1\n",
        "\n",
        "plot_words(X, doc_labels)\n",
        "plt.show()"
      ],
      "execution_count": 0,
      "outputs": [
        {
          "output_type": "display_data",
          "data": {
            "image/png": "[encoded data removed]",
            "text/plain": [
              "<Figure size 432x288 with 1 Axes>"
            ]
          },
          "metadata": {
            "tags": []
          }
        }
      ]
    },
    {
      "cell_type": "markdown",
      "metadata": {
        "id": "znh5Fx8Gcqpq",
        "colab_type": "text"
      },
      "source": [
        "##Aplicación de spectral clustering\n",
        "\n",
        "Ahora se debe aplicar el algoritmo de spectral clustering a estos datos. Como hemos visto, se debe tomar en cuenta diferentes criterios:\n",
        "\n",
        "* La función graph kernel se va utilizar\n",
        "* El método de selección de vecinos (fully connected, k-nn)\n",
        "* El número de dimensiones que queremos obtener\n",
        "* El número de clusters en k-means\n",
        "\n",
        "Pruebe con estos parámetros para obtener un buen agrupamiento de los documentos elegidos. "
      ]
    }
  ]
}