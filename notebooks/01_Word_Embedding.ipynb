{
  "nbformat": 4,
  "nbformat_minor": 0,
  "metadata": {
    "colab": {
      "name": "01 Word Embedding.ipynb",
      "version": "0.3.2",
      "provenance": [],
      "collapsed_sections": []
    },
    "kernelspec": {
      "name": "python3",
      "display_name": "Python 3"
    }
  },
  "cells": [
    {
      "cell_type": "markdown",
      "metadata": {
        "id": "cNrIe6j85328",
        "colab_type": "text"
      },
      "source": [
        "# Creación de embeddings textuales\n",
        "\n",
        "Para crear embedding utilizaremos una versión básica del algoritmo de Word2Vec. En esta implementación, se utiliza una red neuronal feedfoward con una capa oculta y una capa de salida, esta última con activación Softmax."
      ]
    },
    {
      "cell_type": "markdown",
      "metadata": {
        "id": "4voFY9reJ08R",
        "colab_type": "text"
      },
      "source": [
        "## Preparación de los datos\n",
        "\n",
        "En primer lugar, definimos las bibliotecas y paquetes necesarios"
      ]
    },
    {
      "cell_type": "code",
      "metadata": {
        "id": "1l8A848i54nV",
        "colab_type": "code",
        "colab": {}
      },
      "source": [
        "import numpy as np\n",
        "from collections import defaultdict, Counter\n",
        "from operator import itemgetter\n",
        "from itertools import chain, permutations\n",
        "import nltk\n",
        "from nltk.stem.snowball import SnowballStemmer\n",
        "from nltk.corpus import stopwords\n",
        "from itertools import chain\n",
        "from re import sub\n",
        "import matplotlib.pyplot as plt\n",
        "from sklearn.decomposition import PCA\n",
        "from operator import itemgetter\n",
        "from tqdm import tqdm"
      ],
      "execution_count": 0,
      "outputs": []
    },
    {
      "cell_type": "markdown",
      "metadata": {
        "id": "87YaHQwnJ841",
        "colab_type": "text"
      },
      "source": [
        "Podemos usar una lista de paro (stopwords) para eliminar palabras que tienen poco interés (como artículos, preposiciones, conjunciones, etc.):"
      ]
    },
    {
      "cell_type": "code",
      "metadata": {
        "id": "ED41QopO5vn1",
        "colab_type": "code",
        "outputId": "358e21be-ea06-420a-9844-4480bf6de93a",
        "colab": {
          "base_uri": "https://localhost:8080/",
          "height": 51
        }
      },
      "source": [
        "#Descarga lista de paro\n",
        "nltk.download('stopwords')\n",
        "#Asigna lista de paro para español\n",
        "paro = stopwords.words('spanish')"
      ],
      "execution_count": 0,
      "outputs": [
        {
          "output_type": "stream",
          "text": [
            "[nltk_data] Downloading package stopwords to /root/nltk_data...\n",
            "[nltk_data]   Package stopwords is already up-to-date!\n"
          ],
          "name": "stdout"
        }
      ]
    },
    {
      "cell_type": "markdown",
      "metadata": {
        "id": "Y5YTuJNEKSRK",
        "colab_type": "text"
      },
      "source": [
        "Ahora definimos un método de stemming, que se encargará de eliminar afijos en las palabras con el objetivo de reducir el número de tipos:"
      ]
    },
    {
      "cell_type": "code",
      "metadata": {
        "id": "eAGfsVYB6zRA",
        "colab_type": "code",
        "colab": {}
      },
      "source": [
        "#Se define el stemer para español\n",
        "stemizer = SnowballStemmer('spanish')\n",
        "#Diccionario de bases y palabras\n",
        "stem_list = defaultdict(set)\n",
        "\n",
        "#Función para stemmizar\n",
        "def stems(string):\n",
        "  #Lista de stems\n",
        "  stem_string = []\n",
        "  for w in string.split():\n",
        "    #Elimina stopwords\n",
        "    if w in paro:\n",
        "      pass\n",
        "    else:\n",
        "      #Aplica el stemer a cada palabra\n",
        "      base = stemizer.stem(w)\n",
        "      stem_string.append(base)\n",
        "      #Se guardan las bases\n",
        "      stem_list[base].add(w)\n",
        "  return stem_string "
      ],
      "execution_count": 0,
      "outputs": []
    },
    {
      "cell_type": "markdown",
      "metadata": {
        "id": "OhWKNTStKaCR",
        "colab_type": "text"
      },
      "source": [
        "Definimos una función que obtiene los contextos: la idea es recorrer la cadena con una ventana de tamaño $2\\cdot n$; es decir $n$ palabras a la izquierda y $n$ palabras a la derecha."
      ]
    },
    {
      "cell_type": "code",
      "metadata": {
        "id": "8PPKf5j7KJJq",
        "colab_type": "code",
        "colab": {}
      },
      "source": [
        "#Funcion para obtener las ventanas de contexto\n",
        "def get_windows(string, windows_siz):\n",
        "  contexts = []\n",
        "  #El contexto es a la izq y a la der\n",
        "  context_siz = 2*windows_siz\n",
        "  #Si la sentencia es menor a la ventan, se conserva la sentencia\n",
        "  if len(string) < context_siz:\n",
        "    contexts.append(string)    \n",
        "  #Si la sentencia es mayor a la ventana, se crean ventanas\n",
        "  else:\n",
        "    i = 0 \n",
        "    #Añade los contextos\n",
        "    while i+context_siz-1 < len(string):\n",
        "      #Consigue los contextos\n",
        "      contexts.append(string[i:i+context_siz])\n",
        "      i += 1\n",
        "  return contexts"
      ],
      "execution_count": 0,
      "outputs": []
    },
    {
      "cell_type": "markdown",
      "metadata": {
        "id": "Iq0NxDYaK4NW",
        "colab_type": "text"
      },
      "source": [
        "Ahora definimos el vocabulario; en el vocabulario asignaremos un índice numérico a cada palabra; en lo que sigue, trabajaremos con los índices numéricos y no con las palabras:"
      ]
    },
    {
      "cell_type": "code",
      "metadata": {
        "id": "-im6Z8fEKa1k",
        "colab_type": "code",
        "colab": {}
      },
      "source": [
        "#Define el vocabulario\n",
        "voc = defaultdict()\n",
        "#Define una función para agregar al vocabulario\n",
        "#El nuevo elemento tomará el valor siguiente en voc\n",
        "voc.default_factory = lambda: len(voc)\n",
        "\n",
        "#Funcion de indexado\n",
        "def get_data(data,windows_siz=1):\n",
        "  for dat in data:\n",
        "    string_text = stems(dat)\n",
        "    #Stemizamos, y obtenemos las ventanas de contexto\n",
        "    #Agregamos las palabras al vocabulario\n",
        "    yield get_windows([voc[w] for w in string_text], windows_siz)"
      ],
      "execution_count": 0,
      "outputs": []
    },
    {
      "cell_type": "markdown",
      "metadata": {
        "id": "nobDHykjLLPb",
        "colab_type": "text"
      },
      "source": [
        "Ahora obtenemos el corpus, cargándolo desde Drive, y lo limpiamos:"
      ]
    },
    {
      "cell_type": "code",
      "metadata": {
        "id": "cVl6CgETGCzk",
        "colab_type": "code",
        "outputId": "358622a6-7ebd-4341-b2e5-7ed000491bb2",
        "colab": {
          "resources": {
            "http://localhost:8080/nbextensions/google.colab/files.js": {
              "data": "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",
              "ok": true,
              "headers": [
                [
                  "content-type",
                  "application/javascript"
                ]
              ],
              "status": 200,
              "status_text": ""
            }
          },
          "base_uri": "https://localhost:8080/",
          "height": 74
        }
      },
      "source": [
        "from google.colab import files\n",
        "upload = files.upload()"
      ],
      "execution_count": 0,
      "outputs": [
        {
          "output_type": "display_data",
          "data": {
            "text/html": [
              "\n",
              "     <input type=\"file\" id=\"files-bc2fe3aa-b2a7-4d90-b34f-724146f820ce\" name=\"files[]\" multiple disabled />\n",
              "     <output id=\"result-bc2fe3aa-b2a7-4d90-b34f-724146f820ce\">\n",
              "      Upload widget is only available when the cell has been executed in the\n",
              "      current browser session. Please rerun this cell to enable.\n",
              "      </output>\n",
              "      <script src=\"/nbextensions/google.colab/files.js\"></script> "
            ],
            "text/plain": [
              "<IPython.core.display.HTML object>"
            ]
          },
          "metadata": {
            "tags": []
          }
        },
        {
          "output_type": "stream",
          "text": [
            "Saving corpus.es to corpus (4).es\n"
          ],
          "name": "stdout"
        }
      ]
    },
    {
      "cell_type": "code",
      "metadata": {
        "id": "tm2ymVId67j0",
        "colab_type": "code",
        "outputId": "c29cfa9e-65d6-49a9-cab5-10cab8b54a1b",
        "colab": {
          "base_uri": "https://localhost:8080/",
          "height": 54
        }
      },
      "source": [
        "corpus = upload['corpus.es'].decode('utf8')\n",
        "#corpus = 'El perro come un hueso.\\nUn muchacho jugaba.\\nEl muchacho saltaba la cuerda!\\nUn perro come croquetas'\n",
        "#Strip y pasar todo a minúsculas\n",
        "text = corpus.strip().lower()\n",
        "#Limpiar el texto\n",
        "cadenas = sub(r'[^\\w\\s]','',text).split('\\n')[:100]\n",
        "\n",
        "print(cadenas)"
      ],
      "execution_count": 0,
      "outputs": [
        {
          "output_type": "stream",
          "text": [
            "['un día una señora se emborrachó luego se fue a dormir a la casa de su vecino\\r', 'depués ya se acostó y en la mañana se levantó se fue a casa\\r', 'pero había muchísima neblina\\r', 'y pasó por una sanja\\r', 'se encontró una rana grandota\\r', 'estaba grande\\r', 'después se bajó dijo me lelvo esta rana para ir a almorzar porque no tengo nada para almorzar dijo\\r', 'se fue entonces después este caminó como media parcela de la milpa que iba para su casa\\r', 'le iba pesando la rana pesando pesando\\r', 'cuando destapó su rebozo vio cuando estaba sentado un hombrecito chiquito era un charro muy grande\\r', 'estaba sentado después en cuanto lo vio que estana sentado luego luego tiró el rebozo\\r', 'luego tiró la rana\\r', 'se cayó entonces el charrito\\r', 'cuando lo tiró creció luego luego muy gande creció más que la señora\\r', 'después ya desde ese momento ya no recuerda nada que es lo que hicieron el charro y la señora\\r', 'pero sí vio al charro\\r', 'pues creció muy rápido\\r', 'después ya no recuerda nada\\r', 'después sucedió como a las siete\\r', 'y después cuando recordó ya eran como las cinco de la tarde entonces\\r', 'después ya se le hizo tarde\\r', 'después sus niños sus hijos la buscaron la buscaron y dijeron dónde está mi mamá\\r', 'a dónde se fue por más que se haya emborrachado\\r', 'pues dijo que se iba a dormir a casa del vecino\\r', 'a dónde se irírase enfermó\\r', 'después la buscaron la buscaron tenía dos hijos y una hija\\r', 'después se fueron a buscarla\\r', 'se dividieron uno por un lado y el otro por el otro lado se fueron a buscarla\\r', 'pues no encontraron a nadie\\r', 'después por buena vista este había una casa vieja una casa viejísima\\r', 'ya nadie vivía en esa casa vieja estaba muy sola allá\\r', 'después estaba adentro le habían hecho muchos raspones le habían dado a tomar su sangre y le habían hecho muchas cosas\\r', 'después ya le preguntaron quién te pegó\\r', 'nadie esq que pasé por esa sanja\\r', 'estaba una rana muy grande que era la rana\\r', 'era verde y era negra la rana era pinta\\r', 'la alcé creo que pesaba dos kilos\\r', 'después alcé la rana cuando la alcé pues entonces la dejé caminar como media parsela\\r', 'cuando la miré cómo iba a ser cuando era un señor charro muy elegante estaba en mi rebozo\\r', 'cuando la vio luego luego la tiró y dijo luego\\r', 'este después cuando la tiré se hizo grande de pronto como si la hubieran estirado nomás creció\\r', 'entonces yo ya no recuerdo como me vine a esta casa\\r', 'después la recogieron la fueron a curar\\r', 'después ya regresaron la acostaron ahí y estuvo acostada pero sí se compuso\\r', 'pero se embarazó la señora\\r', 'este se enfermó ya no quería comer tortillas ya no quería comer sal\\r', 'pues no quería nada\\r', 'como rentaban casa vámonos de aquí porque siempre llegaba el charro el señor muy elegante siempre llegaba\\r', 'pues ya después estaba enferma y si nos vamos a vivir en esta casa vamos a buscar ota casa vamos a buscar otra casa después vamos a vivir ahí\\r', 'luego no está luego siempre llega ese charro aunque estoy acostada con el señor este marido de pascuala ni siente al charro\\r', 'el charro en el momento en que se duerme el marido de pascuala luego luego veo al charro se cobija se acostaba conmigo\\r', 'este si vamos a vuscar otra casa les dijo a sus hijos\\r', 'está bien vamos a buscar otra casa\\r', 'después ya no encontraron se regresaron y vivieron unos cuantos días más\\r', 'después ya vivieron pero diario diario en la noche llegaba el charro que se dormía con la señora pascuala\\r', 'después decía siempre llega un señor elegante que es charro que me acuesto con él\\r', 'quién sabe porqué está así siempre\\r', 'y si nos cambiamos de casa\\r', 'después ya encontraron casa y volvieron a rentar y vivieron allí\\r', 'pero otra vez seguía llegando pues entonces le tenía miedo le tenía miedo\\r', 'volció a decirles  vamos a buscar otra casa\\r', 'y si dejamos aquí al charro\\r', 'apoco no me va a dejar\\r', 'luego siempre me persigie\\r', 'siempre se cobija conmigo\\r', 'por eso no quiero dormir con él dijo entonces\\r', 'después ya buscaron otra casa a donde vivir otra vez\\r', 'pues seguía llegando el charro\\r', 'y ahí se iba a verla otra vez\\r', 'no quería dejarla después no quería dejarla\\r', 'pues decía otra vez ahora cómo me va a dejar el charro\\r', 'me persigue me persigue y me duermo con él en la noche\\r', 'nomás en la noche se acueta conmigo\\r', 'luego el marido de pascuala se duerme mucho pero mucho\\r', 'pero no sé por qué se duerme mucho él ni siquiera se despierta\\r', 'ni siquiera siente si llega el charro o si no\\r', 'hasta yo le digo de día no te vayas a dormir\\r', 'liuego siempre se cobija conmigo yo le digo apoco no sientes\\r', 'yo no siento nada no no siento nada siempre me duermo yo\\r', 'le dijo entonces con que si llega con que te digo marido despierta el charro ya está parado en la puerta\\r', 'ya ni despierto le dijo pero no se despertó\\r', 'el marido de pascuala cuando se trasladaron a otra casa o sea dejaban al charro porque no quería que se acostara con ella\\r', 'luego se asustaba mucho\\r', 'pero después ya no quizo dejarla\\r', 'pues la perseguía la perseguía\\r', 'después ya se pasó a esa casa luego siempre estaba embarazada\\r', 'después que se encontró con el charro siempre estuvo embarazada no dio a luz ni se le bajó el estómago\\r', 'pues así estaba\\r', 'luego le creció mucho la panza\\r', 'no dio a luz ni se le bajo la panza\\r', 'siempre estaba así\\r', 'después de que se mudaron a la cuarta casa una vez en la noche se murió de pronto\\r', 'esa señora se murió de pronto el señor al mismo tiempo se murieron los dos\\r', 'por eso su hijo se quedó estaba chico\\r', 'sus demás hijos ya se habían salido\\r', 'ya estaban en méxico\\r', 'ya no vivían aquí esos\\r', 'uno era chico\\r', 'creo que tenía como diez años\\r', 'se quedó solo vivió solo\\r']\n"
          ],
          "name": "stdout"
        }
      ]
    },
    {
      "cell_type": "markdown",
      "metadata": {
        "id": "cGeuwkqRLj5A",
        "colab_type": "text"
      },
      "source": [
        "Ahora aplicamos las funciones de get_data() para obtener los contextos:"
      ]
    },
    {
      "cell_type": "code",
      "metadata": {
        "id": "a_MRrUlRLTjJ",
        "colab_type": "code",
        "outputId": "398e5f58-152b-4e65-8206-bb606c9ffbaa",
        "colab": {
          "base_uri": "https://localhost:8080/",
          "height": 54
        }
      },
      "source": [
        "#Obtiene los contexto de índices\n",
        "cads_idx = list(get_data(cadenas,windows_siz=4))\n",
        "\n",
        "print(cads_idx)"
      ],
      "execution_count": 0,
      "outputs": [
        {
          "output_type": "stream",
          "text": [
            "[[[0, 1, 2, 3, 4, 5, 6]], [[7, 8, 9, 10, 5]], [[11, 12]], [[13, 14]], [[15, 16, 17]], [[18]], [[19, 20, 21, 22, 16, 23, 24, 24], [20, 21, 22, 16, 23, 24, 24, 21]], [[25, 19, 26, 27, 28, 29, 30, 5]], [[30, 31, 16, 31, 31]], [[32, 33, 34, 35, 36, 37, 38, 18]], [[35, 19, 39, 34, 40, 35, 3, 3], [19, 39, 34, 40, 35, 3, 3, 41], [39, 34, 40, 35, 3, 3, 41, 33]], [[3, 41, 16]], [[42, 25, 43]], [[41, 44, 3, 3, 45, 44, 1]], [[19, 46, 47, 48, 38, 1]], [[34, 38]], [[49, 44, 50]], [[19, 47]], [[19, 51, 52]], [[19, 53, 54, 55, 25]], [[19, 56, 55]], [[19, 57, 58, 59, 59, 60, 61, 62]], [[61, 2]], [[49, 21, 30, 4, 5, 6]], [[61, 63, 64]], [[19, 59, 59, 65, 58, 58]], [[19, 59]], [[66, 67, 67, 59]], [[49, 15, 68]], [[19, 69, 70, 5, 71, 5, 72]], [[68, 73, 5, 71, 74, 75]], [[19, 76, 77, 78, 79, 80, 81, 77], [76, 77, 78, 79, 80, 81, 77, 82], [77, 78, 79, 80, 81, 77, 82, 83]], [[19, 84, 85, 86]], [[68, 87, 13, 14]], [[16, 18, 16]], [[88, 89, 16, 90]], [[91, 92, 31, 65, 93]], [[19, 91, 16, 91, 49, 25, 94, 26], [91, 16, 91, 49, 25, 94, 26, 27], [16, 91, 49, 25, 94, 26, 27, 95]], [[96, 97, 30, 98, 1, 38, 99, 33]], [[34, 3, 3, 41, 21, 3]], [[19, 41, 56, 18, 100, 101, 102, 103], [41, 56, 18, 100, 101, 102, 103, 44]], [[25, 47, 104, 5]], [[19, 105, 106]], [[19, 107, 8, 108, 8, 109]], [[110, 1]], [[64, 111, 97, 112, 111, 97, 113]], [[49, 111]], [[114, 5, 115, 116, 117, 118, 38, 1], [5, 115, 116, 117, 118, 38, 1, 99], [115, 116, 117, 118, 38, 1, 99, 117], [116, 117, 118, 38, 1, 99, 117, 118]], [[49, 19, 64, 101, 119, 73, 5, 119], [19, 64, 101, 119, 73, 5, 119, 59], [64, 101, 119, 73, 5, 119, 59, 120], [101, 119, 73, 5, 119, 59, 120, 5], [119, 73, 5, 119, 59, 120, 5, 119], [73, 5, 119, 59, 120, 5, 119, 59], [5, 119, 59, 120, 5, 119, 59, 5], [119, 59, 120, 5, 119, 59, 5, 19], [59, 120, 5, 119, 59, 5, 19, 119], [120, 5, 119, 59, 5, 19, 119, 73], [5, 119, 59, 5, 19, 119, 73, 108]], [[3, 3, 117, 118, 38, 121, 8, 1], [3, 117, 118, 38, 121, 8, 1, 122], [117, 118, 38, 121, 8, 1, 122, 123], [118, 38, 121, 8, 1, 122, 123, 38]], [[38, 46, 124, 122, 123, 3, 3, 125], [46, 124, 122, 123, 3, 3, 125, 38], [124, 122, 123, 3, 3, 125, 38, 126], [122, 123, 3, 3, 125, 38, 126, 8], [123, 3, 3, 125, 38, 126, 8, 127]], [[101, 119, 128, 5, 21, 58]], [[129, 119, 59, 5]], [[19, 15, 107, 73, 39, 130]], [[19, 73, 131, 131, 132, 118, 38, 4], [73, 131, 131, 132, 118, 38, 4, 1], [131, 131, 132, 118, 38, 4, 1, 123]], [[19, 133, 117, 118, 1, 99, 38, 134]], [[85, 135, 136, 137, 117]], [[101, 138, 5]], [[19, 15, 5, 139, 114, 73, 140]], [[141, 142, 118, 49, 25, 143, 143]], [[144, 133, 119, 59, 5]], [[101, 94, 116, 38]], [[145, 146, 94]], [[3, 117, 147]], [[117, 126, 127]], [[148, 4, 21, 25]], [[19, 59, 5, 73, 141]], [[49, 142, 118, 38]], [[108, 30, 149, 141]], [[111, 94, 19, 111, 94]], [[49, 133, 141, 150, 97, 146, 94, 38]], [[151, 151, 124, 132]], [[103, 132, 152, 127]], [[3, 122, 123, 124]], [[153, 124, 154, 155]], [[154, 101, 118, 38, 101]], [[156, 0, 157, 4]], [[158, 117, 126, 127, 156, 145, 159]], [[159, 159, 117, 124]], [[21, 25, 101, 118, 156, 122, 155, 38], [25, 101, 118, 156, 122, 155, 38, 160], [101, 118, 156, 122, 155, 38, 160, 161]], [[155, 21, 162]], [[122, 123, 163, 5, 94, 38, 111, 8]], [[3, 164]], [[19, 165, 94]], [[49, 166, 166]], [[19, 13, 5, 3, 117, 110]], [[19, 15, 38, 117, 110, 167, 168, 20], [15, 38, 117, 110, 167, 168, 20, 169]], [[49, 137]], [[3, 44, 170]], [[167, 168, 20, 170]], [[117, 137]], [[19, 171, 172, 5, 141, 132, 173, 100]], [[1, 173, 100, 1, 174, 175, 173, 65]], [[58, 176, 177]], [[178, 58, 113]], [[179]], [[73, 116]], [[177]], [[92, 180, 181]], [[176, 74, 73, 74]]]\n"
          ],
          "name": "stdout"
        }
      ]
    },
    {
      "cell_type": "markdown",
      "metadata": {
        "id": "jtf65hGvL3hZ",
        "colab_type": "text"
      },
      "source": [
        "Finalmente, a partir de los contextos, obtenemos los pares de entrenamiento:"
      ]
    },
    {
      "cell_type": "code",
      "metadata": {
        "id": "BvZTjdxKLsgf",
        "colab_type": "code",
        "outputId": "705cffc0-822f-4839-a311-a0b4607824da",
        "colab": {
          "base_uri": "https://localhost:8080/",
          "height": 51
        }
      },
      "source": [
        "#Obtenemos los ejemplos para entrenar la red\n",
        "ejemplos = list(chain(*[list(permutations(cad,2)) for cad in chain(*cads_idx)]))\n",
        "#Longitud del vocabulario\n",
        "N = len(voc)\n",
        "\n",
        "print(N)\n",
        "print(len(ejemplos))"
      ],
      "execution_count": 0,
      "outputs": [
        {
          "output_type": "stream",
          "text": [
            "182\n",
            "4134\n"
          ],
          "name": "stdout"
        }
      ]
    },
    {
      "cell_type": "markdown",
      "metadata": {
        "id": "-t47R-KhMFg9",
        "colab_type": "text"
      },
      "source": [
        "## Red neuronal para entrenar embeddings\n",
        "\n",
        "La arquitectura de la red es simple: toma un vector one-hot de entrada (que llamaremos $x$), cuenta con una capa oculta (capa de embedding) y, finalmente, toma una capa de salida con activación Softmax. La red no tiene bias en ninguna capa. En este sentido, podemos ver las operaciones de la red como:\n",
        "\n",
        "* Capa de embedding: $$h = Ux$$\n",
        "* Capa de salida: $$f(x) = Softmax(Vh)$$\n",
        "\n",
        "Definiremos las matrices $U$ (de embedding) y $V$ (de la capa de salida), donde la primera es de $N\\times d$ (número de palabras por dimensiones del embedding) y la última es de $d\\times N$ (dimensiones del embedding por número de palabras). Cada una se inicia aleatoria e independientemente.\n",
        "\n",
        "\n",
        "\n"
      ]
    },
    {
      "cell_type": "code",
      "metadata": {
        "id": "GGLiKVloCPhN",
        "colab_type": "code",
        "colab": {}
      },
      "source": [
        "np.random.seed(0)\n",
        "#Dimensiones de los vectores-palabra\n",
        "dim = 100\n",
        "\n",
        "#Embedding\n",
        "U = np.random.randn(dim, N) / np.sqrt(N)\n",
        "#Capa de salida\n",
        "V = np.random.randn(N,dim) / np.sqrt(dim)"
      ],
      "execution_count": 0,
      "outputs": []
    },
    {
      "cell_type": "markdown",
      "metadata": {
        "id": "elkNl91hNNWN",
        "colab_type": "text"
      },
      "source": [
        "Para entrenar usamos el algoritmo de SGD, retropropagando el error. La función de pérdida está definida como:\n",
        "\n",
        "$$L(\\theta) = -\\sum_i \\sum_j y_{ij} \\log f_j(x_i) $$\n",
        "\n",
        "Donde $y_{ij}$ es 1 si la salida corresponde a la palabra en contexto, y 0 en otro caso."
      ]
    },
    {
      "cell_type": "code",
      "metadata": {
        "id": "zQpFmMTGCqoi",
        "colab_type": "code",
        "outputId": "87f1d103-c64e-479f-8b12-0b89a4418230",
        "colab": {
          "base_uri": "https://localhost:8080/",
          "height": 34
        }
      },
      "source": [
        "#Número de iteraciones\n",
        "its = 100\n",
        "#Valor del rango de aprendizjae\n",
        "eta = 0.1\n",
        "\n",
        "#Comienza entrenamiento\n",
        "for i in tqdm(range(0,its)):\n",
        "\n",
        "    for ex in ejemplos:\n",
        "        #FORWARD\n",
        "        #Embedimiento\n",
        "        u_w = U.T[ex[0]]\n",
        "        #salida\n",
        "        a = np.dot(V,u_w)\n",
        "        #Se resta el máximo para evitar overflow\n",
        "        out = np.exp(a - np.max(a))\n",
        "        #Softmax\n",
        "        f = out/out.sum(0)\n",
        "        \n",
        "\n",
        "        #BACKPROP\n",
        "        #Variable de salida\n",
        "        d_out = f\n",
        "        d_out[ex[1]] -= 1\n",
        "        \n",
        "        #Variable de embedding\n",
        "        d_emb = np.dot(d_out,V)\n",
        "        \n",
        "        #Actualizacion de salida\n",
        "        V -= eta*np.outer(d_out,u_w)\n",
        "\n",
        "        #Actualizacion de embedding\n",
        "        U.T[ex[0]] -= eta*d_emb        "
      ],
      "execution_count": 0,
      "outputs": [
        {
          "output_type": "stream",
          "text": [
            "100%|██████████| 100/100 [00:52<00:00,  1.94it/s]\n"
          ],
          "name": "stderr"
        }
      ]
    },
    {
      "cell_type": "markdown",
      "metadata": {
        "id": "pjJHpWFHOls1",
        "colab_type": "text"
      },
      "source": [
        "## Representación de las palabras en espacio vectorial\n",
        "\n",
        "Finalmente, podemos ver las representaciones vectoriales de las palabras a través de los embeddings. Estos se ecuentran dentro de la matriz de embedding ($U$)."
      ]
    },
    {
      "cell_type": "code",
      "metadata": {
        "id": "5poPXmRbDxqA",
        "colab_type": "code",
        "colab": {}
      },
      "source": [
        "#Función para plotear en dos dimensiones con etiquetas\n",
        "def plot_words(Z,ids):\n",
        "    Z = PCA(n_components=2).fit_transform(Z)\n",
        "    r=0\n",
        "    plt.scatter(Z[:,0],Z[:,1], marker='o', c='blue')\n",
        "    for label,x,y in zip(ids, Z[:,0], Z[:,1]):\n",
        "        plt.annotate(label, xy=(x,y), xytext=(-1,1), textcoords='offset points', ha='center', va='bottom')\n",
        "        r+=1\n",
        "    plt.show()"
      ],
      "execution_count": 0,
      "outputs": []
    },
    {
      "cell_type": "code",
      "metadata": {
        "id": "aUvF8V0vD7dy",
        "colab_type": "code",
        "outputId": "c4e3c680-dbcf-429f-8dd3-d4c2ff97efcb",
        "colab": {
          "base_uri": "https://localhost:8080/",
          "height": 269
        }
      },
      "source": [
        "#Etiquetas (palabras)\n",
        "label = [w[0] for w in sorted(voc.items(), key=itemgetter(1))]\n",
        "#Plotea la imagen\n",
        "plot_words(U.T,label)"
      ],
      "execution_count": 0,
      "outputs": [
        {
          "output_type": "display_data",
          "data": {
            "image/png": "[encoded data removed]",
            "text/plain": [
              "<Figure size 432x288 with 1 Axes>"
            ]
          },
          "metadata": {
            "tags": []
          }
        }
      ]
    },
    {
      "cell_type": "markdown",
      "metadata": {
        "id": "kR1ZPUQZXlut",
        "colab_type": "text"
      },
      "source": [
        "Podemos comparar las palabras a partir de la cercanía de sus vectores a partir de una métrica o distancia definida en el espacio vectorial:"
      ]
    },
    {
      "cell_type": "code",
      "metadata": {
        "id": "MJ5-fTdLRADC",
        "colab_type": "code",
        "outputId": "433825a1-9164-46e8-9cfa-0d53a44fd61b",
        "colab": {
          "base_uri": "https://localhost:8080/",
          "height": 187
        }
      },
      "source": [
        "#Palabra que se quiere comparar\n",
        "word = 'tortill'\n",
        "\n",
        "euc = {}\n",
        "for w in voc.keys():\n",
        "  if w != word:\n",
        "    #Obtiene los vectores palabra\n",
        "    x = U.T[voc[word]]\n",
        "    y = U.T[voc[w]]\n",
        "    #Calucla la distancia eucludiana entre los vectores-palabra\n",
        "    euc_dist = np.linalg.norm(x-y)    \n",
        "    euc[w] = euc_dist\n",
        "\n",
        "#Ordena de menor a mayor distancia las palabras\n",
        "sort_euc = sorted(euc.items(), key=itemgetter(1))[:10]\n",
        "\n",
        "for word,value in sort_euc:\n",
        "  print(word, stem_list[word], value)"
      ],
      "execution_count": 0,
      "outputs": [
        {
          "output_type": "stream",
          "text": [
            "sal {'sal', 'salido'} 2.7402422638035735\n",
            "com {'comer', 'cómo'} 2.809912381975715\n",
            "dej {'dejé', 'dejaban', 'dejarla', 'dejar', 'dejamos'} 2.9558835015997964\n",
            "cas {'casa'} 3.0677897110116716\n",
            "quer {'quería'} 3.068616269239141\n",
            "demas {'demás'} 3.07267960313881\n",
            "mar {'marido'} 3.091531724712505\n",
            "pascual {'pascuala'} 3.104955292571\n",
            "mexic {'méxico'} 3.108608557125946\n",
            "despues {'después'} 3.1656753930657797\n"
          ],
          "name": "stdout"
        }
      ]
    }
  ]
}